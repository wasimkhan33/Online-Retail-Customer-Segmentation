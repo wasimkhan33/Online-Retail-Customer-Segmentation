{
  "nbformat": 4,
  "nbformat_minor": 0,
  "metadata": {
    "kernelspec": {
      "display_name": "Python 3",
      "language": "python",
      "name": "python3"
    },
    "language_info": {
      "codemirror_mode": {
        "name": "ipython",
        "version": 3
      },
      "file_extension": ".py",
      "mimetype": "text/x-python",
      "name": "python",
      "nbconvert_exporter": "python",
      "pygments_lexer": "ipython3",
      "version": "3.6.6"
    },
    "colab": {
      "name": "Online Retail Customer Segmentation - Capstone Project.ipynb",
      "provenance": [],
      "collapsed_sections": [],
      "include_colab_link": true
    }
  },
  "cells": [
    {
      "cell_type": "markdown",
      "metadata": {
        "id": "view-in-github",
        "colab_type": "text"
      },
      "source": [
        "<a href=\"https://colab.research.google.com/github/wasimkhan33/Online-Retail-Customer-Segmentation/blob/main/Online_Retail_Customer_Segmentation_Capstone_Project.ipynb\" target=\"_parent\"><img src=\"https://colab.research.google.com/assets/colab-badge.svg\" alt=\"Open In Colab\"/></a>"
      ]
    },
    {
      "cell_type": "markdown",
      "metadata": {
        "id": "tOGC-qoyhJeX"
      },
      "source": [
        "# <b><u> Project Title : Extraction/identification of major topics & themes discussed in news articles. </u></b>"
      ]
    },
    {
      "cell_type": "markdown",
      "metadata": {
        "id": "Y06xIdG26kRF"
      },
      "source": [
        "## <b> Problem Description </b>\n",
        "\n",
        "### In this project, your task is to identify major customer segments on a transnational data set which contains all the transactions occurring between 01/12/2010 and 09/12/2011 for a UK-based and registered non-store online retail.The company mainly sells unique all-occasion gifts. Many customers of the company are wholesalers."
      ]
    },
    {
      "cell_type": "markdown",
      "metadata": {
        "id": "AlLxAtlziMbP"
      },
      "source": [
        "## <b> Data Description </b>\n",
        "\n",
        "### <b>Attribute Information: </b>\n",
        "\n",
        "* ### InvoiceNo: Invoice number. Nominal, a 6-digit integral number uniquely assigned to each transaction. If this code starts with letter 'c', it indicates a cancellation.\n",
        "* ### StockCode: Product (item) code. Nominal, a 5-digit integral number uniquely assigned to each distinct product.\n",
        "* ### Description: Product (item) name. Nominal.\n",
        "* ### Quantity: The quantities of each product (item) per transaction. Numeric.\n",
        "* ### InvoiceDate: Invice Date and time. Numeric, the day and time when each transaction was generated.\n",
        "* ### UnitPrice: Unit price. Numeric, Product price per unit in sterling.\n",
        "* ### CustomerID: Customer number. Nominal, a 5-digit integral number uniquely assigned to each customer.\n",
        "* ### Country: Country name. Nominal, the name of the country where each customer resides."
      ]
    },
    {
      "cell_type": "code",
      "metadata": {
        "id": "dByMsuzT8Tnw"
      },
      "source": [
        "# Import key Libraries\n",
        "import pandas as pd\n",
        "import numpy as np\n",
        "import seaborn as sns\n",
        "import matplotlib.pyplot as plt\n",
        "from datetime import datetime\n",
        "import warnings\n",
        "warnings.filterwarnings('ignore')\n",
        "\n",
        "%matplotlib inline\n",
        "pd.set_option('precision', 2) #sets the output display precision in terms of decimal places\n",
        "sns.set_style('whitegrid')"
      ],
      "execution_count": 918,
      "outputs": []
    },
    {
      "cell_type": "code",
      "metadata": {
        "colab": {
          "base_uri": "https://localhost:8080/"
        },
        "id": "7Rz9NnlbuNPP",
        "outputId": "cbdf48c4-4b69-4621-d08a-9167784b4861"
      },
      "source": [
        "from google.colab import drive\n",
        "drive.mount('/content/drive')"
      ],
      "execution_count": 919,
      "outputs": [
        {
          "output_type": "stream",
          "text": [
            "Drive already mounted at /content/drive; to attempt to forcibly remount, call drive.mount(\"/content/drive\", force_remount=True).\n"
          ],
          "name": "stdout"
        }
      ]
    },
    {
      "cell_type": "code",
      "metadata": {
        "colab": {
          "base_uri": "https://localhost:8080/",
          "height": 203
        },
        "id": "A90dgKK2tbEb",
        "outputId": "f1b57165-4c66-4335-f6d8-eecbef4cd009"
      },
      "source": [
        "data1 = pd.read_excel('/content/drive/MyDrive/Colab Notebooks/Capstone 4/Copy of Online Retail.xlsx')\n",
        "\n",
        "df = data1.copy()\n",
        "df.head()"
      ],
      "execution_count": 920,
      "outputs": [
        {
          "output_type": "execute_result",
          "data": {
            "text/html": [
              "<div>\n",
              "<style scoped>\n",
              "    .dataframe tbody tr th:only-of-type {\n",
              "        vertical-align: middle;\n",
              "    }\n",
              "\n",
              "    .dataframe tbody tr th {\n",
              "        vertical-align: top;\n",
              "    }\n",
              "\n",
              "    .dataframe thead th {\n",
              "        text-align: right;\n",
              "    }\n",
              "</style>\n",
              "<table border=\"1\" class=\"dataframe\">\n",
              "  <thead>\n",
              "    <tr style=\"text-align: right;\">\n",
              "      <th></th>\n",
              "      <th>InvoiceNo</th>\n",
              "      <th>StockCode</th>\n",
              "      <th>Description</th>\n",
              "      <th>Quantity</th>\n",
              "      <th>InvoiceDate</th>\n",
              "      <th>UnitPrice</th>\n",
              "      <th>CustomerID</th>\n",
              "      <th>Country</th>\n",
              "    </tr>\n",
              "  </thead>\n",
              "  <tbody>\n",
              "    <tr>\n",
              "      <th>0</th>\n",
              "      <td>536365</td>\n",
              "      <td>85123A</td>\n",
              "      <td>WHITE HANGING HEART T-LIGHT HOLDER</td>\n",
              "      <td>6</td>\n",
              "      <td>2010-12-01 08:26:00</td>\n",
              "      <td>2.55</td>\n",
              "      <td>17850.0</td>\n",
              "      <td>United Kingdom</td>\n",
              "    </tr>\n",
              "    <tr>\n",
              "      <th>1</th>\n",
              "      <td>536365</td>\n",
              "      <td>71053</td>\n",
              "      <td>WHITE METAL LANTERN</td>\n",
              "      <td>6</td>\n",
              "      <td>2010-12-01 08:26:00</td>\n",
              "      <td>3.39</td>\n",
              "      <td>17850.0</td>\n",
              "      <td>United Kingdom</td>\n",
              "    </tr>\n",
              "    <tr>\n",
              "      <th>2</th>\n",
              "      <td>536365</td>\n",
              "      <td>84406B</td>\n",
              "      <td>CREAM CUPID HEARTS COAT HANGER</td>\n",
              "      <td>8</td>\n",
              "      <td>2010-12-01 08:26:00</td>\n",
              "      <td>2.75</td>\n",
              "      <td>17850.0</td>\n",
              "      <td>United Kingdom</td>\n",
              "    </tr>\n",
              "    <tr>\n",
              "      <th>3</th>\n",
              "      <td>536365</td>\n",
              "      <td>84029G</td>\n",
              "      <td>KNITTED UNION FLAG HOT WATER BOTTLE</td>\n",
              "      <td>6</td>\n",
              "      <td>2010-12-01 08:26:00</td>\n",
              "      <td>3.39</td>\n",
              "      <td>17850.0</td>\n",
              "      <td>United Kingdom</td>\n",
              "    </tr>\n",
              "    <tr>\n",
              "      <th>4</th>\n",
              "      <td>536365</td>\n",
              "      <td>84029E</td>\n",
              "      <td>RED WOOLLY HOTTIE WHITE HEART.</td>\n",
              "      <td>6</td>\n",
              "      <td>2010-12-01 08:26:00</td>\n",
              "      <td>3.39</td>\n",
              "      <td>17850.0</td>\n",
              "      <td>United Kingdom</td>\n",
              "    </tr>\n",
              "  </tbody>\n",
              "</table>\n",
              "</div>"
            ],
            "text/plain": [
              "  InvoiceNo StockCode  ... CustomerID         Country\n",
              "0    536365    85123A  ...    17850.0  United Kingdom\n",
              "1    536365     71053  ...    17850.0  United Kingdom\n",
              "2    536365    84406B  ...    17850.0  United Kingdom\n",
              "3    536365    84029G  ...    17850.0  United Kingdom\n",
              "4    536365    84029E  ...    17850.0  United Kingdom\n",
              "\n",
              "[5 rows x 8 columns]"
            ]
          },
          "metadata": {
            "tags": []
          },
          "execution_count": 920
        }
      ]
    },
    {
      "cell_type": "markdown",
      "metadata": {
        "id": "T9OvjHm94Nlx"
      },
      "source": [
        "#Data exploring and preprocessing"
      ]
    },
    {
      "cell_type": "code",
      "metadata": {
        "id": "C8KtjEEvun5J",
        "colab": {
          "base_uri": "https://localhost:8080/"
        },
        "outputId": "0195ad18-29a3-43e5-fcb8-80ce9fa7b43f"
      },
      "source": [
        "df.shape"
      ],
      "execution_count": 921,
      "outputs": [
        {
          "output_type": "execute_result",
          "data": {
            "text/plain": [
              "(541909, 8)"
            ]
          },
          "metadata": {
            "tags": []
          },
          "execution_count": 921
        }
      ]
    },
    {
      "cell_type": "code",
      "metadata": {
        "colab": {
          "base_uri": "https://localhost:8080/"
        },
        "id": "jE5kq9GsjC1t",
        "outputId": "5fc61955-f1e9-45c2-f561-85bfaa1d33ac"
      },
      "source": [
        "df.info()"
      ],
      "execution_count": 922,
      "outputs": [
        {
          "output_type": "stream",
          "text": [
            "<class 'pandas.core.frame.DataFrame'>\n",
            "RangeIndex: 541909 entries, 0 to 541908\n",
            "Data columns (total 8 columns):\n",
            " #   Column       Non-Null Count   Dtype         \n",
            "---  ------       --------------   -----         \n",
            " 0   InvoiceNo    541909 non-null  object        \n",
            " 1   StockCode    541909 non-null  object        \n",
            " 2   Description  540455 non-null  object        \n",
            " 3   Quantity     541909 non-null  int64         \n",
            " 4   InvoiceDate  541909 non-null  datetime64[ns]\n",
            " 5   UnitPrice    541909 non-null  float64       \n",
            " 6   CustomerID   406829 non-null  float64       \n",
            " 7   Country      541909 non-null  object        \n",
            "dtypes: datetime64[ns](1), float64(2), int64(1), object(4)\n",
            "memory usage: 33.1+ MB\n"
          ],
          "name": "stdout"
        }
      ]
    },
    {
      "cell_type": "markdown",
      "metadata": {
        "id": "LaByiZ4L-OfR"
      },
      "source": [
        "Our dataset is composed of 8 columns and 541,909 rows. Let's explore the different columns and then check for null values and decide how we want to deal with them."
      ]
    },
    {
      "cell_type": "markdown",
      "metadata": {
        "id": "rjrjpiigVby1"
      },
      "source": [
        "**Check for Null Values**"
      ]
    },
    {
      "cell_type": "code",
      "metadata": {
        "colab": {
          "base_uri": "https://localhost:8080/"
        },
        "id": "iG86HCx01Hk2",
        "outputId": "f320fa9c-72bb-4f43-da93-64522b5c6be1"
      },
      "source": [
        "df.isnull().values.any()"
      ],
      "execution_count": 923,
      "outputs": [
        {
          "output_type": "execute_result",
          "data": {
            "text/plain": [
              "True"
            ]
          },
          "metadata": {
            "tags": []
          },
          "execution_count": 923
        }
      ]
    },
    {
      "cell_type": "code",
      "metadata": {
        "colab": {
          "base_uri": "https://localhost:8080/"
        },
        "id": "Zr6jqoRc1NVA",
        "outputId": "45db000c-5e65-42c0-9daf-724687bc856f"
      },
      "source": [
        "df.isnull().sum()"
      ],
      "execution_count": 924,
      "outputs": [
        {
          "output_type": "execute_result",
          "data": {
            "text/plain": [
              "InvoiceNo           0\n",
              "StockCode           0\n",
              "Description      1454\n",
              "Quantity            0\n",
              "InvoiceDate         0\n",
              "UnitPrice           0\n",
              "CustomerID     135080\n",
              "Country             0\n",
              "dtype: int64"
            ]
          },
          "metadata": {
            "tags": []
          },
          "execution_count": 924
        }
      ]
    },
    {
      "cell_type": "code",
      "metadata": {
        "colab": {
          "base_uri": "https://localhost:8080/"
        },
        "id": "XgJxMlM5Vjuw",
        "outputId": "af935108-953b-4359-f132-22e908e82616"
      },
      "source": [
        "print(\"Percentage of customers missing: \", round(df['CustomerID'].isnull().sum() * 100 / len(df),2),\"%\" )"
      ],
      "execution_count": 925,
      "outputs": [
        {
          "output_type": "stream",
          "text": [
            "Percentage of customers missing:  24.93 %\n"
          ],
          "name": "stdout"
        }
      ]
    },
    {
      "cell_type": "code",
      "metadata": {
        "colab": {
          "base_uri": "https://localhost:8080/"
        },
        "id": "LxS9RU8c-XPV",
        "outputId": "c2dec790-807a-4b2b-b589-427960ff4a24"
      },
      "source": [
        "print(\"Percentage of Description missing: \", round(df['Description'].isnull().sum() * 100 / len(df),2),\"%\" )"
      ],
      "execution_count": 926,
      "outputs": [
        {
          "output_type": "stream",
          "text": [
            "Percentage of Description missing:  0.27 %\n"
          ],
          "name": "stdout"
        }
      ]
    },
    {
      "cell_type": "code",
      "metadata": {
        "colab": {
          "base_uri": "https://localhost:8080/",
          "height": 110
        },
        "id": "5fBYQKBjjOTk",
        "outputId": "d9159874-9717-467a-a38a-3ccdbc3ec764"
      },
      "source": [
        "# Identify the number of NAs in each feature and select only those having NAs\n",
        "total_NA = df.isnull().sum()[df.isnull().sum() != 0]\n",
        "\n",
        "# Calculate the percentage of NA in each feature\n",
        "percent_NA = df.isnull().sum()[df.isnull().sum() != 0]/df.shape[0]\n",
        "\n",
        "# Summarize our findings in a dataframe\n",
        "missing = pd.concat([total_NA, percent_NA], axis=1, keys=['Total NAs', 'Percentage']).sort_values('Total NAs', ascending=False)\n",
        "missing"
      ],
      "execution_count": 927,
      "outputs": [
        {
          "output_type": "execute_result",
          "data": {
            "text/html": [
              "<div>\n",
              "<style scoped>\n",
              "    .dataframe tbody tr th:only-of-type {\n",
              "        vertical-align: middle;\n",
              "    }\n",
              "\n",
              "    .dataframe tbody tr th {\n",
              "        vertical-align: top;\n",
              "    }\n",
              "\n",
              "    .dataframe thead th {\n",
              "        text-align: right;\n",
              "    }\n",
              "</style>\n",
              "<table border=\"1\" class=\"dataframe\">\n",
              "  <thead>\n",
              "    <tr style=\"text-align: right;\">\n",
              "      <th></th>\n",
              "      <th>Total NAs</th>\n",
              "      <th>Percentage</th>\n",
              "    </tr>\n",
              "  </thead>\n",
              "  <tbody>\n",
              "    <tr>\n",
              "      <th>CustomerID</th>\n",
              "      <td>135080</td>\n",
              "      <td>2.49e-01</td>\n",
              "    </tr>\n",
              "    <tr>\n",
              "      <th>Description</th>\n",
              "      <td>1454</td>\n",
              "      <td>2.68e-03</td>\n",
              "    </tr>\n",
              "  </tbody>\n",
              "</table>\n",
              "</div>"
            ],
            "text/plain": [
              "             Total NAs  Percentage\n",
              "CustomerID      135080    2.49e-01\n",
              "Description       1454    2.68e-03"
            ]
          },
          "metadata": {
            "tags": []
          },
          "execution_count": 927
        }
      ]
    },
    {
      "cell_type": "code",
      "metadata": {
        "colab": {
          "base_uri": "https://localhost:8080/"
        },
        "id": "0iyn-9Il4ujY",
        "outputId": "a1e4b91a-aaf1-4291-bdb8-e0fa3bbce3f3"
      },
      "source": [
        "print('Number of duplicated records: ', df.duplicated(keep='first').sum())\n"
      ],
      "execution_count": 928,
      "outputs": [
        {
          "output_type": "stream",
          "text": [
            "Number of duplicated records:  5268\n"
          ],
          "name": "stdout"
        }
      ]
    },
    {
      "cell_type": "markdown",
      "metadata": {
        "id": "ekML0R8vfmnD"
      },
      "source": [
        "a. We are missing values in the CustomerID and Description columns.\n",
        "<br>\n",
        "b. Since 25% of the customer ID's are missing, we will create and fill a new column that has a 1 when customer ID is null and a 0 when it is not.\n",
        "<br>\n",
        "c. We will investigate the records where the CustomerID field is null to determine whether to erase those rows or fill in the missing values.\n",
        "<br>\n",
        "d. Since we won't be doing analysis on the descriptions of the orders, we can leave the null values as it is for now."
      ]
    },
    {
      "cell_type": "code",
      "metadata": {
        "collapsed": true,
        "id": "6dJAjQSRfmnE"
      },
      "source": [
        "df['CustomerID_is_null'] = [1 if i == True else 0 for i in df.CustomerID.isnull()]"
      ],
      "execution_count": 929,
      "outputs": []
    },
    {
      "cell_type": "code",
      "metadata": {
        "collapsed": true,
        "id": "jjnwpUHVfmnE"
      },
      "source": [
        "#Create a new dateframe of only orders with missing CustomerID values\n",
        "df1 = df[df['CustomerID_is_null'] == 1]"
      ],
      "execution_count": 930,
      "outputs": []
    },
    {
      "cell_type": "code",
      "metadata": {
        "id": "gy-lrmqzfmnE",
        "colab": {
          "base_uri": "https://localhost:8080/"
        },
        "outputId": "aa219d77-8940-4dd6-c31e-dca8ba44f7ca"
      },
      "source": [
        "df1.info()"
      ],
      "execution_count": 931,
      "outputs": [
        {
          "output_type": "stream",
          "text": [
            "<class 'pandas.core.frame.DataFrame'>\n",
            "Int64Index: 135080 entries, 622 to 541540\n",
            "Data columns (total 9 columns):\n",
            " #   Column              Non-Null Count   Dtype         \n",
            "---  ------              --------------   -----         \n",
            " 0   InvoiceNo           135080 non-null  object        \n",
            " 1   StockCode           135080 non-null  object        \n",
            " 2   Description         133626 non-null  object        \n",
            " 3   Quantity            135080 non-null  int64         \n",
            " 4   InvoiceDate         135080 non-null  datetime64[ns]\n",
            " 5   UnitPrice           135080 non-null  float64       \n",
            " 6   CustomerID          0 non-null       float64       \n",
            " 7   Country             135080 non-null  object        \n",
            " 8   CustomerID_is_null  135080 non-null  int64         \n",
            "dtypes: datetime64[ns](1), float64(2), int64(2), object(4)\n",
            "memory usage: 10.3+ MB\n"
          ],
          "name": "stdout"
        }
      ]
    },
    {
      "cell_type": "code",
      "metadata": {
        "id": "AOzGDBiUfmnF",
        "colab": {
          "base_uri": "https://localhost:8080/",
          "height": 357
        },
        "outputId": "3b7d9b48-d020-479a-b4ff-14dd30eedc5f"
      },
      "source": [
        "df1.head(10)"
      ],
      "execution_count": 932,
      "outputs": [
        {
          "output_type": "execute_result",
          "data": {
            "text/html": [
              "<div>\n",
              "<style scoped>\n",
              "    .dataframe tbody tr th:only-of-type {\n",
              "        vertical-align: middle;\n",
              "    }\n",
              "\n",
              "    .dataframe tbody tr th {\n",
              "        vertical-align: top;\n",
              "    }\n",
              "\n",
              "    .dataframe thead th {\n",
              "        text-align: right;\n",
              "    }\n",
              "</style>\n",
              "<table border=\"1\" class=\"dataframe\">\n",
              "  <thead>\n",
              "    <tr style=\"text-align: right;\">\n",
              "      <th></th>\n",
              "      <th>InvoiceNo</th>\n",
              "      <th>StockCode</th>\n",
              "      <th>Description</th>\n",
              "      <th>Quantity</th>\n",
              "      <th>InvoiceDate</th>\n",
              "      <th>UnitPrice</th>\n",
              "      <th>CustomerID</th>\n",
              "      <th>Country</th>\n",
              "      <th>CustomerID_is_null</th>\n",
              "    </tr>\n",
              "  </thead>\n",
              "  <tbody>\n",
              "    <tr>\n",
              "      <th>622</th>\n",
              "      <td>536414</td>\n",
              "      <td>22139</td>\n",
              "      <td>NaN</td>\n",
              "      <td>56</td>\n",
              "      <td>2010-12-01 11:52:00</td>\n",
              "      <td>0.00</td>\n",
              "      <td>NaN</td>\n",
              "      <td>United Kingdom</td>\n",
              "      <td>1</td>\n",
              "    </tr>\n",
              "    <tr>\n",
              "      <th>1443</th>\n",
              "      <td>536544</td>\n",
              "      <td>21773</td>\n",
              "      <td>DECORATIVE ROSE BATHROOM BOTTLE</td>\n",
              "      <td>1</td>\n",
              "      <td>2010-12-01 14:32:00</td>\n",
              "      <td>2.51</td>\n",
              "      <td>NaN</td>\n",
              "      <td>United Kingdom</td>\n",
              "      <td>1</td>\n",
              "    </tr>\n",
              "    <tr>\n",
              "      <th>1444</th>\n",
              "      <td>536544</td>\n",
              "      <td>21774</td>\n",
              "      <td>DECORATIVE CATS BATHROOM BOTTLE</td>\n",
              "      <td>2</td>\n",
              "      <td>2010-12-01 14:32:00</td>\n",
              "      <td>2.51</td>\n",
              "      <td>NaN</td>\n",
              "      <td>United Kingdom</td>\n",
              "      <td>1</td>\n",
              "    </tr>\n",
              "    <tr>\n",
              "      <th>1445</th>\n",
              "      <td>536544</td>\n",
              "      <td>21786</td>\n",
              "      <td>POLKADOT RAIN HAT</td>\n",
              "      <td>4</td>\n",
              "      <td>2010-12-01 14:32:00</td>\n",
              "      <td>0.85</td>\n",
              "      <td>NaN</td>\n",
              "      <td>United Kingdom</td>\n",
              "      <td>1</td>\n",
              "    </tr>\n",
              "    <tr>\n",
              "      <th>1446</th>\n",
              "      <td>536544</td>\n",
              "      <td>21787</td>\n",
              "      <td>RAIN PONCHO RETROSPOT</td>\n",
              "      <td>2</td>\n",
              "      <td>2010-12-01 14:32:00</td>\n",
              "      <td>1.66</td>\n",
              "      <td>NaN</td>\n",
              "      <td>United Kingdom</td>\n",
              "      <td>1</td>\n",
              "    </tr>\n",
              "    <tr>\n",
              "      <th>1447</th>\n",
              "      <td>536544</td>\n",
              "      <td>21790</td>\n",
              "      <td>VINTAGE SNAP CARDS</td>\n",
              "      <td>9</td>\n",
              "      <td>2010-12-01 14:32:00</td>\n",
              "      <td>1.66</td>\n",
              "      <td>NaN</td>\n",
              "      <td>United Kingdom</td>\n",
              "      <td>1</td>\n",
              "    </tr>\n",
              "    <tr>\n",
              "      <th>1448</th>\n",
              "      <td>536544</td>\n",
              "      <td>21791</td>\n",
              "      <td>VINTAGE HEADS AND TAILS CARD GAME</td>\n",
              "      <td>2</td>\n",
              "      <td>2010-12-01 14:32:00</td>\n",
              "      <td>2.51</td>\n",
              "      <td>NaN</td>\n",
              "      <td>United Kingdom</td>\n",
              "      <td>1</td>\n",
              "    </tr>\n",
              "    <tr>\n",
              "      <th>1449</th>\n",
              "      <td>536544</td>\n",
              "      <td>21801</td>\n",
              "      <td>CHRISTMAS TREE DECORATION WITH BELL</td>\n",
              "      <td>10</td>\n",
              "      <td>2010-12-01 14:32:00</td>\n",
              "      <td>0.43</td>\n",
              "      <td>NaN</td>\n",
              "      <td>United Kingdom</td>\n",
              "      <td>1</td>\n",
              "    </tr>\n",
              "    <tr>\n",
              "      <th>1450</th>\n",
              "      <td>536544</td>\n",
              "      <td>21802</td>\n",
              "      <td>CHRISTMAS TREE HEART DECORATION</td>\n",
              "      <td>9</td>\n",
              "      <td>2010-12-01 14:32:00</td>\n",
              "      <td>0.43</td>\n",
              "      <td>NaN</td>\n",
              "      <td>United Kingdom</td>\n",
              "      <td>1</td>\n",
              "    </tr>\n",
              "    <tr>\n",
              "      <th>1451</th>\n",
              "      <td>536544</td>\n",
              "      <td>21803</td>\n",
              "      <td>CHRISTMAS TREE STAR DECORATION</td>\n",
              "      <td>11</td>\n",
              "      <td>2010-12-01 14:32:00</td>\n",
              "      <td>0.43</td>\n",
              "      <td>NaN</td>\n",
              "      <td>United Kingdom</td>\n",
              "      <td>1</td>\n",
              "    </tr>\n",
              "  </tbody>\n",
              "</table>\n",
              "</div>"
            ],
            "text/plain": [
              "     InvoiceNo StockCode  ...         Country  CustomerID_is_null\n",
              "622     536414     22139  ...  United Kingdom                   1\n",
              "1443    536544     21773  ...  United Kingdom                   1\n",
              "1444    536544     21774  ...  United Kingdom                   1\n",
              "1445    536544     21786  ...  United Kingdom                   1\n",
              "1446    536544     21787  ...  United Kingdom                   1\n",
              "1447    536544     21790  ...  United Kingdom                   1\n",
              "1448    536544     21791  ...  United Kingdom                   1\n",
              "1449    536544     21801  ...  United Kingdom                   1\n",
              "1450    536544     21802  ...  United Kingdom                   1\n",
              "1451    536544     21803  ...  United Kingdom                   1\n",
              "\n",
              "[10 rows x 9 columns]"
            ]
          },
          "metadata": {
            "tags": []
          },
          "execution_count": 932
        }
      ]
    },
    {
      "cell_type": "markdown",
      "metadata": {
        "id": "vF4yhf9qfmnF"
      },
      "source": [
        "I noticed that there are usually several products being bought per order where each unique **InvoiceNo** is a sperate order.\n"
      ]
    },
    {
      "cell_type": "code",
      "metadata": {
        "id": "ByCHm6CffmnF",
        "colab": {
          "base_uri": "https://localhost:8080/"
        },
        "outputId": "5162fe01-5f1c-43df-fa25-1f23b4316642"
      },
      "source": [
        "print(\"Number of orders in df1:\", df1['InvoiceNo'].nunique())\n",
        "print(\"Avg. number of products per order in df1: \", round(df1['StockCode'].count() / df1['InvoiceNo'].nunique(),2) )\n",
        "print(\"Avg. number of products per order in df: \",  round(df['StockCode'].count() / df['InvoiceNo'].nunique(),2) )"
      ],
      "execution_count": 933,
      "outputs": [
        {
          "output_type": "stream",
          "text": [
            "Number of orders in df1: 3710\n",
            "Avg. number of products per order in df1:  36.41\n",
            "Avg. number of products per order in df:  20.92\n"
          ],
          "name": "stdout"
        }
      ]
    },
    {
      "cell_type": "markdown",
      "metadata": {
        "id": "opnMU7UifmnG"
      },
      "source": [
        "Since the customer ID's are missing, lets assume these orders were not made by the customers already in the data set because those customers already have ID's. We also don't want to assign these orders to those customers because this would alter the insights we draw from the data. Instead of dropping the null **CustomerID** values, let's assign those rows a unique customer ID per order. This will act as a new customer for each unique order. \n",
        "<br>\n",
        "<br>\n",
        "**How should we assign the new customer ID's?**\n",
        "<br>\n",
        "<br>\n",
        "Using the values in the **InvoiceNo** column would be the most straightfoward approach. We will create a new customer ID column called **NewID** with the invoice numbers filling in for the missing values. Then we will add the number of unique orders in df1 and to number of unique values in **CustomerID** and see if it equals the number of unique values in **NewID**. This will check if any of the new values match the existing values in the column and make sure we didn't add more orders to an existing customer."
      ]
    },
    {
      "cell_type": "code",
      "metadata": {
        "scrolled": true,
        "id": "7X4OU2kcfmnG",
        "colab": {
          "base_uri": "https://localhost:8080/",
          "height": 203
        },
        "outputId": "870138c7-f471-4223-ee83-8d1c2d0588a7"
      },
      "source": [
        "df['NewID'] = df['CustomerID']\n",
        "df.loc[df['CustomerID_is_null'] == 1, ['NewID']] = df['InvoiceNo']\n",
        "\n",
        "#drop CustomerID column since it isn't need anymore\n",
        "# df = df.drop('CustomerID', 1)\n",
        "df.head()"
      ],
      "execution_count": 934,
      "outputs": [
        {
          "output_type": "execute_result",
          "data": {
            "text/html": [
              "<div>\n",
              "<style scoped>\n",
              "    .dataframe tbody tr th:only-of-type {\n",
              "        vertical-align: middle;\n",
              "    }\n",
              "\n",
              "    .dataframe tbody tr th {\n",
              "        vertical-align: top;\n",
              "    }\n",
              "\n",
              "    .dataframe thead th {\n",
              "        text-align: right;\n",
              "    }\n",
              "</style>\n",
              "<table border=\"1\" class=\"dataframe\">\n",
              "  <thead>\n",
              "    <tr style=\"text-align: right;\">\n",
              "      <th></th>\n",
              "      <th>InvoiceNo</th>\n",
              "      <th>StockCode</th>\n",
              "      <th>Description</th>\n",
              "      <th>Quantity</th>\n",
              "      <th>InvoiceDate</th>\n",
              "      <th>UnitPrice</th>\n",
              "      <th>CustomerID</th>\n",
              "      <th>Country</th>\n",
              "      <th>CustomerID_is_null</th>\n",
              "      <th>NewID</th>\n",
              "    </tr>\n",
              "  </thead>\n",
              "  <tbody>\n",
              "    <tr>\n",
              "      <th>0</th>\n",
              "      <td>536365</td>\n",
              "      <td>85123A</td>\n",
              "      <td>WHITE HANGING HEART T-LIGHT HOLDER</td>\n",
              "      <td>6</td>\n",
              "      <td>2010-12-01 08:26:00</td>\n",
              "      <td>2.55</td>\n",
              "      <td>17850.0</td>\n",
              "      <td>United Kingdom</td>\n",
              "      <td>0</td>\n",
              "      <td>1.8e+04</td>\n",
              "    </tr>\n",
              "    <tr>\n",
              "      <th>1</th>\n",
              "      <td>536365</td>\n",
              "      <td>71053</td>\n",
              "      <td>WHITE METAL LANTERN</td>\n",
              "      <td>6</td>\n",
              "      <td>2010-12-01 08:26:00</td>\n",
              "      <td>3.39</td>\n",
              "      <td>17850.0</td>\n",
              "      <td>United Kingdom</td>\n",
              "      <td>0</td>\n",
              "      <td>1.8e+04</td>\n",
              "    </tr>\n",
              "    <tr>\n",
              "      <th>2</th>\n",
              "      <td>536365</td>\n",
              "      <td>84406B</td>\n",
              "      <td>CREAM CUPID HEARTS COAT HANGER</td>\n",
              "      <td>8</td>\n",
              "      <td>2010-12-01 08:26:00</td>\n",
              "      <td>2.75</td>\n",
              "      <td>17850.0</td>\n",
              "      <td>United Kingdom</td>\n",
              "      <td>0</td>\n",
              "      <td>1.8e+04</td>\n",
              "    </tr>\n",
              "    <tr>\n",
              "      <th>3</th>\n",
              "      <td>536365</td>\n",
              "      <td>84029G</td>\n",
              "      <td>KNITTED UNION FLAG HOT WATER BOTTLE</td>\n",
              "      <td>6</td>\n",
              "      <td>2010-12-01 08:26:00</td>\n",
              "      <td>3.39</td>\n",
              "      <td>17850.0</td>\n",
              "      <td>United Kingdom</td>\n",
              "      <td>0</td>\n",
              "      <td>1.8e+04</td>\n",
              "    </tr>\n",
              "    <tr>\n",
              "      <th>4</th>\n",
              "      <td>536365</td>\n",
              "      <td>84029E</td>\n",
              "      <td>RED WOOLLY HOTTIE WHITE HEART.</td>\n",
              "      <td>6</td>\n",
              "      <td>2010-12-01 08:26:00</td>\n",
              "      <td>3.39</td>\n",
              "      <td>17850.0</td>\n",
              "      <td>United Kingdom</td>\n",
              "      <td>0</td>\n",
              "      <td>1.8e+04</td>\n",
              "    </tr>\n",
              "  </tbody>\n",
              "</table>\n",
              "</div>"
            ],
            "text/plain": [
              "  InvoiceNo StockCode  ... CustomerID_is_null    NewID\n",
              "0    536365    85123A  ...                  0  1.8e+04\n",
              "1    536365     71053  ...                  0  1.8e+04\n",
              "2    536365    84406B  ...                  0  1.8e+04\n",
              "3    536365    84029G  ...                  0  1.8e+04\n",
              "4    536365    84029E  ...                  0  1.8e+04\n",
              "\n",
              "[5 rows x 10 columns]"
            ]
          },
          "metadata": {
            "tags": []
          },
          "execution_count": 934
        }
      ]
    },
    {
      "cell_type": "markdown",
      "metadata": {
        "id": "_qVTiiRqfmnH"
      },
      "source": [
        "Notice that **NewID** doesn't have any missing values, but the column includes object data types. As mentioned in the description of the dataset, if the invoice number starts with the letter \"C\", it means it the order was cancelled. All of the data types in the new customer ID column need to be numeric, so we need to first remove any \"C\" characters from the column."
      ]
    },
    {
      "cell_type": "code",
      "metadata": {
        "id": "VcvJ8M5PfmnI",
        "colab": {
          "base_uri": "https://localhost:8080/",
          "height": 80
        },
        "outputId": "4b22f870-283a-45f7-80d0-65b6a49d2c27"
      },
      "source": [
        "#Remove all non digits from column NewID\n",
        "df['NewID'] = df['NewID'].astype(str).str.replace('\\D+', '')\n",
        "\n",
        "#Convert to integer\n",
        "df['NewID'] = pd.to_numeric(df['NewID'])\n",
        "\n",
        "#Check if the 'C' character was removed in the NewID column\n",
        "df[df['NewID']== 580605]"
      ],
      "execution_count": 935,
      "outputs": [
        {
          "output_type": "execute_result",
          "data": {
            "text/html": [
              "<div>\n",
              "<style scoped>\n",
              "    .dataframe tbody tr th:only-of-type {\n",
              "        vertical-align: middle;\n",
              "    }\n",
              "\n",
              "    .dataframe tbody tr th {\n",
              "        vertical-align: top;\n",
              "    }\n",
              "\n",
              "    .dataframe thead th {\n",
              "        text-align: right;\n",
              "    }\n",
              "</style>\n",
              "<table border=\"1\" class=\"dataframe\">\n",
              "  <thead>\n",
              "    <tr style=\"text-align: right;\">\n",
              "      <th></th>\n",
              "      <th>InvoiceNo</th>\n",
              "      <th>StockCode</th>\n",
              "      <th>Description</th>\n",
              "      <th>Quantity</th>\n",
              "      <th>InvoiceDate</th>\n",
              "      <th>UnitPrice</th>\n",
              "      <th>CustomerID</th>\n",
              "      <th>Country</th>\n",
              "      <th>CustomerID_is_null</th>\n",
              "      <th>NewID</th>\n",
              "    </tr>\n",
              "  </thead>\n",
              "  <tbody>\n",
              "    <tr>\n",
              "      <th>524602</th>\n",
              "      <td>C580605</td>\n",
              "      <td>AMAZONFEE</td>\n",
              "      <td>AMAZON FEE</td>\n",
              "      <td>-1</td>\n",
              "      <td>2011-12-05 11:36:00</td>\n",
              "      <td>17836.46</td>\n",
              "      <td>NaN</td>\n",
              "      <td>United Kingdom</td>\n",
              "      <td>1</td>\n",
              "      <td>580605</td>\n",
              "    </tr>\n",
              "  </tbody>\n",
              "</table>\n",
              "</div>"
            ],
            "text/plain": [
              "       InvoiceNo  StockCode  ... CustomerID_is_null   NewID\n",
              "524602   C580605  AMAZONFEE  ...                  1  580605\n",
              "\n",
              "[1 rows x 10 columns]"
            ]
          },
          "metadata": {
            "tags": []
          },
          "execution_count": 935
        }
      ]
    },
    {
      "cell_type": "code",
      "metadata": {
        "id": "9LyC6YTUfmnI",
        "colab": {
          "base_uri": "https://localhost:8080/"
        },
        "outputId": "73a7157c-4641-4dcd-9d44-67e95fce1aac"
      },
      "source": [
        "Num_CustomerID = df['CustomerID'].nunique()\n",
        "Num_df1_InvoiceNo = df1['InvoiceNo'].nunique()\n",
        "Num_NewID = df['NewID'].nunique()\n",
        "print(\"Number of Customers:\", df['CustomerID'].nunique())\n",
        "print(\"Number of Orders in df1:\", df1['InvoiceNo'].nunique())\n",
        "print(\"Number of Customers + Number of Orders in df1:\", Num_CustomerID + Num_df1_InvoiceNo)\n",
        "print(\"Number of New ID's:\", df['NewID'].nunique())"
      ],
      "execution_count": 936,
      "outputs": [
        {
          "output_type": "stream",
          "text": [
            "Number of Customers: 4372\n",
            "Number of Orders in df1: 3710\n",
            "Number of Customers + Number of Orders in df1: 8082\n",
            "Number of New ID's: 8082\n"
          ],
          "name": "stdout"
        }
      ]
    },
    {
      "cell_type": "markdown",
      "metadata": {
        "id": "HnRuV_wdfmnI"
      },
      "source": [
        "Since both values equal 8082, we know all the different orders that didn't have a customer ID got assigned unique NewID."
      ]
    },
    {
      "cell_type": "code",
      "metadata": {
        "id": "epBcTKHlgPvJ"
      },
      "source": [
        "# df.dropna(axis=0, subset=['CustomerID'], inplace= True)"
      ],
      "execution_count": 937,
      "outputs": []
    },
    {
      "cell_type": "markdown",
      "metadata": {
        "id": "WY4OswY66onW"
      },
      "source": [
        "# 2. Exploratory Data Analysis\n",
        "\n",
        "Now that our data set is clean, let's take a closer look at the numberic columns, specifically Quantity and UnitPrice."
      ]
    },
    {
      "cell_type": "code",
      "metadata": {
        "id": "pJ7bAJHb6onY",
        "colab": {
          "base_uri": "https://localhost:8080/",
          "height": 295
        },
        "outputId": "6f816421-eb75-4832-e9f8-ee86383aac8a"
      },
      "source": [
        "df.describe()"
      ],
      "execution_count": 938,
      "outputs": [
        {
          "output_type": "execute_result",
          "data": {
            "text/html": [
              "<div>\n",
              "<style scoped>\n",
              "    .dataframe tbody tr th:only-of-type {\n",
              "        vertical-align: middle;\n",
              "    }\n",
              "\n",
              "    .dataframe tbody tr th {\n",
              "        vertical-align: top;\n",
              "    }\n",
              "\n",
              "    .dataframe thead th {\n",
              "        text-align: right;\n",
              "    }\n",
              "</style>\n",
              "<table border=\"1\" class=\"dataframe\">\n",
              "  <thead>\n",
              "    <tr style=\"text-align: right;\">\n",
              "      <th></th>\n",
              "      <th>Quantity</th>\n",
              "      <th>UnitPrice</th>\n",
              "      <th>CustomerID</th>\n",
              "      <th>CustomerID_is_null</th>\n",
              "      <th>NewID</th>\n",
              "    </tr>\n",
              "  </thead>\n",
              "  <tbody>\n",
              "    <tr>\n",
              "      <th>count</th>\n",
              "      <td>541909.00</td>\n",
              "      <td>541909.00</td>\n",
              "      <td>406829.00</td>\n",
              "      <td>541909.00</td>\n",
              "      <td>541909.00</td>\n",
              "    </tr>\n",
              "    <tr>\n",
              "      <th>mean</th>\n",
              "      <td>9.55</td>\n",
              "      <td>4.61</td>\n",
              "      <td>15287.69</td>\n",
              "      <td>0.25</td>\n",
              "      <td>253869.47</td>\n",
              "    </tr>\n",
              "    <tr>\n",
              "      <th>std</th>\n",
              "      <td>218.08</td>\n",
              "      <td>96.76</td>\n",
              "      <td>1713.60</td>\n",
              "      <td>0.43</td>\n",
              "      <td>176036.80</td>\n",
              "    </tr>\n",
              "    <tr>\n",
              "      <th>min</th>\n",
              "      <td>-80995.00</td>\n",
              "      <td>-11062.06</td>\n",
              "      <td>12346.00</td>\n",
              "      <td>0.00</td>\n",
              "      <td>123460.00</td>\n",
              "    </tr>\n",
              "    <tr>\n",
              "      <th>25%</th>\n",
              "      <td>1.00</td>\n",
              "      <td>1.25</td>\n",
              "      <td>13953.00</td>\n",
              "      <td>0.00</td>\n",
              "      <td>143670.00</td>\n",
              "    </tr>\n",
              "    <tr>\n",
              "      <th>50%</th>\n",
              "      <td>3.00</td>\n",
              "      <td>2.08</td>\n",
              "      <td>15152.00</td>\n",
              "      <td>0.00</td>\n",
              "      <td>162490.00</td>\n",
              "    </tr>\n",
              "    <tr>\n",
              "      <th>75%</th>\n",
              "      <td>10.00</td>\n",
              "      <td>4.13</td>\n",
              "      <td>16791.00</td>\n",
              "      <td>0.00</td>\n",
              "      <td>182830.00</td>\n",
              "    </tr>\n",
              "    <tr>\n",
              "      <th>max</th>\n",
              "      <td>80995.00</td>\n",
              "      <td>38970.00</td>\n",
              "      <td>18287.00</td>\n",
              "      <td>1.00</td>\n",
              "      <td>581498.00</td>\n",
              "    </tr>\n",
              "  </tbody>\n",
              "</table>\n",
              "</div>"
            ],
            "text/plain": [
              "        Quantity  UnitPrice  CustomerID  CustomerID_is_null      NewID\n",
              "count  541909.00  541909.00   406829.00           541909.00  541909.00\n",
              "mean        9.55       4.61    15287.69                0.25  253869.47\n",
              "std       218.08      96.76     1713.60                0.43  176036.80\n",
              "min    -80995.00  -11062.06    12346.00                0.00  123460.00\n",
              "25%         1.00       1.25    13953.00                0.00  143670.00\n",
              "50%         3.00       2.08    15152.00                0.00  162490.00\n",
              "75%        10.00       4.13    16791.00                0.00  182830.00\n",
              "max     80995.00   38970.00    18287.00                1.00  581498.00"
            ]
          },
          "metadata": {
            "tags": []
          },
          "execution_count": 938
        }
      ]
    },
    {
      "cell_type": "markdown",
      "metadata": {
        "id": "X9a1jQDo6onY"
      },
      "source": [
        "Notice that there are negative values in the Quantity and UnitPrice columns. I am assuming these are orders that were cancelled and items that were returned, but lets make sure."
      ]
    },
    {
      "cell_type": "markdown",
      "metadata": {
        "id": "EvJ7cunK6onZ"
      },
      "source": [
        "## Negative Values"
      ]
    },
    {
      "cell_type": "markdown",
      "metadata": {
        "id": "b0hog6QB6onZ"
      },
      "source": [
        "As mentioned above, if the invoice number starts with the letter \"C\", it means it the order was cancelled."
      ]
    },
    {
      "cell_type": "code",
      "metadata": {
        "id": "mriGiLzQ6ona",
        "colab": {
          "base_uri": "https://localhost:8080/",
          "height": 203
        },
        "outputId": "2e56599b-6795-454c-d20c-9104e2d535e3"
      },
      "source": [
        "cancelled_orders = df[df['InvoiceNo'].astype(str).str.contains('C')]\n",
        "cancelled_orders.head()"
      ],
      "execution_count": 939,
      "outputs": [
        {
          "output_type": "execute_result",
          "data": {
            "text/html": [
              "<div>\n",
              "<style scoped>\n",
              "    .dataframe tbody tr th:only-of-type {\n",
              "        vertical-align: middle;\n",
              "    }\n",
              "\n",
              "    .dataframe tbody tr th {\n",
              "        vertical-align: top;\n",
              "    }\n",
              "\n",
              "    .dataframe thead th {\n",
              "        text-align: right;\n",
              "    }\n",
              "</style>\n",
              "<table border=\"1\" class=\"dataframe\">\n",
              "  <thead>\n",
              "    <tr style=\"text-align: right;\">\n",
              "      <th></th>\n",
              "      <th>InvoiceNo</th>\n",
              "      <th>StockCode</th>\n",
              "      <th>Description</th>\n",
              "      <th>Quantity</th>\n",
              "      <th>InvoiceDate</th>\n",
              "      <th>UnitPrice</th>\n",
              "      <th>CustomerID</th>\n",
              "      <th>Country</th>\n",
              "      <th>CustomerID_is_null</th>\n",
              "      <th>NewID</th>\n",
              "    </tr>\n",
              "  </thead>\n",
              "  <tbody>\n",
              "    <tr>\n",
              "      <th>141</th>\n",
              "      <td>C536379</td>\n",
              "      <td>D</td>\n",
              "      <td>Discount</td>\n",
              "      <td>-1</td>\n",
              "      <td>2010-12-01 09:41:00</td>\n",
              "      <td>27.50</td>\n",
              "      <td>14527.0</td>\n",
              "      <td>United Kingdom</td>\n",
              "      <td>0</td>\n",
              "      <td>145270</td>\n",
              "    </tr>\n",
              "    <tr>\n",
              "      <th>154</th>\n",
              "      <td>C536383</td>\n",
              "      <td>35004C</td>\n",
              "      <td>SET OF 3 COLOURED  FLYING DUCKS</td>\n",
              "      <td>-1</td>\n",
              "      <td>2010-12-01 09:49:00</td>\n",
              "      <td>4.65</td>\n",
              "      <td>15311.0</td>\n",
              "      <td>United Kingdom</td>\n",
              "      <td>0</td>\n",
              "      <td>153110</td>\n",
              "    </tr>\n",
              "    <tr>\n",
              "      <th>235</th>\n",
              "      <td>C536391</td>\n",
              "      <td>22556</td>\n",
              "      <td>PLASTERS IN TIN CIRCUS PARADE</td>\n",
              "      <td>-12</td>\n",
              "      <td>2010-12-01 10:24:00</td>\n",
              "      <td>1.65</td>\n",
              "      <td>17548.0</td>\n",
              "      <td>United Kingdom</td>\n",
              "      <td>0</td>\n",
              "      <td>175480</td>\n",
              "    </tr>\n",
              "    <tr>\n",
              "      <th>236</th>\n",
              "      <td>C536391</td>\n",
              "      <td>21984</td>\n",
              "      <td>PACK OF 12 PINK PAISLEY TISSUES</td>\n",
              "      <td>-24</td>\n",
              "      <td>2010-12-01 10:24:00</td>\n",
              "      <td>0.29</td>\n",
              "      <td>17548.0</td>\n",
              "      <td>United Kingdom</td>\n",
              "      <td>0</td>\n",
              "      <td>175480</td>\n",
              "    </tr>\n",
              "    <tr>\n",
              "      <th>237</th>\n",
              "      <td>C536391</td>\n",
              "      <td>21983</td>\n",
              "      <td>PACK OF 12 BLUE PAISLEY TISSUES</td>\n",
              "      <td>-24</td>\n",
              "      <td>2010-12-01 10:24:00</td>\n",
              "      <td>0.29</td>\n",
              "      <td>17548.0</td>\n",
              "      <td>United Kingdom</td>\n",
              "      <td>0</td>\n",
              "      <td>175480</td>\n",
              "    </tr>\n",
              "  </tbody>\n",
              "</table>\n",
              "</div>"
            ],
            "text/plain": [
              "    InvoiceNo StockCode  ... CustomerID_is_null   NewID\n",
              "141   C536379         D  ...                  0  145270\n",
              "154   C536383    35004C  ...                  0  153110\n",
              "235   C536391     22556  ...                  0  175480\n",
              "236   C536391     21984  ...                  0  175480\n",
              "237   C536391     21983  ...                  0  175480\n",
              "\n",
              "[5 rows x 10 columns]"
            ]
          },
          "metadata": {
            "tags": []
          },
          "execution_count": 939
        }
      ]
    },
    {
      "cell_type": "code",
      "metadata": {
        "id": "bHsoEt9h6ona",
        "colab": {
          "base_uri": "https://localhost:8080/",
          "height": 49
        },
        "outputId": "aa5b4238-362c-466a-c5a3-7edf95f200e9"
      },
      "source": [
        "cancelled_orders[cancelled_orders['Quantity']>0]"
      ],
      "execution_count": 940,
      "outputs": [
        {
          "output_type": "execute_result",
          "data": {
            "text/html": [
              "<div>\n",
              "<style scoped>\n",
              "    .dataframe tbody tr th:only-of-type {\n",
              "        vertical-align: middle;\n",
              "    }\n",
              "\n",
              "    .dataframe tbody tr th {\n",
              "        vertical-align: top;\n",
              "    }\n",
              "\n",
              "    .dataframe thead th {\n",
              "        text-align: right;\n",
              "    }\n",
              "</style>\n",
              "<table border=\"1\" class=\"dataframe\">\n",
              "  <thead>\n",
              "    <tr style=\"text-align: right;\">\n",
              "      <th></th>\n",
              "      <th>InvoiceNo</th>\n",
              "      <th>StockCode</th>\n",
              "      <th>Description</th>\n",
              "      <th>Quantity</th>\n",
              "      <th>InvoiceDate</th>\n",
              "      <th>UnitPrice</th>\n",
              "      <th>CustomerID</th>\n",
              "      <th>Country</th>\n",
              "      <th>CustomerID_is_null</th>\n",
              "      <th>NewID</th>\n",
              "    </tr>\n",
              "  </thead>\n",
              "  <tbody>\n",
              "  </tbody>\n",
              "</table>\n",
              "</div>"
            ],
            "text/plain": [
              "Empty DataFrame\n",
              "Columns: [InvoiceNo, StockCode, Description, Quantity, InvoiceDate, UnitPrice, CustomerID, Country, CustomerID_is_null, NewID]\n",
              "Index: []"
            ]
          },
          "metadata": {
            "tags": []
          },
          "execution_count": 940
        }
      ]
    },
    {
      "cell_type": "markdown",
      "metadata": {
        "id": "tulMqGBe6ona"
      },
      "source": [
        "Since nothing came back when we filtered the cancelled orders by Quantity > 0, this confirms that the negative values mean the order was cancelled.\n",
        "\n",
        "**How many orders were cancelled?**"
      ]
    },
    {
      "cell_type": "code",
      "metadata": {
        "scrolled": true,
        "id": "V20EyqlE6onb",
        "colab": {
          "base_uri": "https://localhost:8080/"
        },
        "outputId": "13bb6522-5b5b-414a-85b3-c9cbc7b3ed58"
      },
      "source": [
        "print(\"There were\", len(cancelled_orders), \"cancelled orders.\")\n",
        "\n",
        "#Calculate the percentage of cancellations by dividing the cancelled orders by the total orders\n",
        "total_orders = df['InvoiceNo'].nunique()\n",
        "number_cancelled = len(cancelled_orders)\n",
        "print('Percentage of orders cancelled: {:.2f}% '.format(number_cancelled / total_orders * 100))"
      ],
      "execution_count": 941,
      "outputs": [
        {
          "output_type": "stream",
          "text": [
            "There were 9288 cancelled orders.\n",
            "Percentage of orders cancelled: 35.86% \n"
          ],
          "name": "stdout"
        }
      ]
    },
    {
      "cell_type": "markdown",
      "metadata": {
        "id": "CDh23K-f6onb"
      },
      "source": [
        "9288 or about 36% of the orders were cancelled. Looking deeper into why these orders were cancelled may prevent future cancellations.\n",
        "\n",
        " Now let's find out what a negative UnitPrice means."
      ]
    },
    {
      "cell_type": "code",
      "metadata": {
        "scrolled": true,
        "id": "ajUAJKTV6onc",
        "colab": {
          "base_uri": "https://localhost:8080/",
          "height": 110
        },
        "outputId": "e75c9e60-39a1-42d4-f36e-fbd08d69c8ce"
      },
      "source": [
        "df[df['UnitPrice'] < 0]"
      ],
      "execution_count": 942,
      "outputs": [
        {
          "output_type": "execute_result",
          "data": {
            "text/html": [
              "<div>\n",
              "<style scoped>\n",
              "    .dataframe tbody tr th:only-of-type {\n",
              "        vertical-align: middle;\n",
              "    }\n",
              "\n",
              "    .dataframe tbody tr th {\n",
              "        vertical-align: top;\n",
              "    }\n",
              "\n",
              "    .dataframe thead th {\n",
              "        text-align: right;\n",
              "    }\n",
              "</style>\n",
              "<table border=\"1\" class=\"dataframe\">\n",
              "  <thead>\n",
              "    <tr style=\"text-align: right;\">\n",
              "      <th></th>\n",
              "      <th>InvoiceNo</th>\n",
              "      <th>StockCode</th>\n",
              "      <th>Description</th>\n",
              "      <th>Quantity</th>\n",
              "      <th>InvoiceDate</th>\n",
              "      <th>UnitPrice</th>\n",
              "      <th>CustomerID</th>\n",
              "      <th>Country</th>\n",
              "      <th>CustomerID_is_null</th>\n",
              "      <th>NewID</th>\n",
              "    </tr>\n",
              "  </thead>\n",
              "  <tbody>\n",
              "    <tr>\n",
              "      <th>299983</th>\n",
              "      <td>A563186</td>\n",
              "      <td>B</td>\n",
              "      <td>Adjust bad debt</td>\n",
              "      <td>1</td>\n",
              "      <td>2011-08-12 14:51:00</td>\n",
              "      <td>-11062.06</td>\n",
              "      <td>NaN</td>\n",
              "      <td>United Kingdom</td>\n",
              "      <td>1</td>\n",
              "      <td>563186</td>\n",
              "    </tr>\n",
              "    <tr>\n",
              "      <th>299984</th>\n",
              "      <td>A563187</td>\n",
              "      <td>B</td>\n",
              "      <td>Adjust bad debt</td>\n",
              "      <td>1</td>\n",
              "      <td>2011-08-12 14:52:00</td>\n",
              "      <td>-11062.06</td>\n",
              "      <td>NaN</td>\n",
              "      <td>United Kingdom</td>\n",
              "      <td>1</td>\n",
              "      <td>563187</td>\n",
              "    </tr>\n",
              "  </tbody>\n",
              "</table>\n",
              "</div>"
            ],
            "text/plain": [
              "       InvoiceNo StockCode  ... CustomerID_is_null   NewID\n",
              "299983   A563186         B  ...                  1  563186\n",
              "299984   A563187         B  ...                  1  563187\n",
              "\n",
              "[2 rows x 10 columns]"
            ]
          },
          "metadata": {
            "tags": []
          },
          "execution_count": 942
        }
      ]
    },
    {
      "cell_type": "markdown",
      "metadata": {
        "id": "KKo4UolU6onc"
      },
      "source": [
        "The description of \"Adjust bad debt\" tells us that this is an adjustment for a customer with insufficient funds or an allowance for a customer who never paid for the order."
      ]
    },
    {
      "cell_type": "markdown",
      "metadata": {
        "id": "m18gRlFz6onc"
      },
      "source": [
        "## Exploring the Orders\n",
        "\n",
        "#### a. What's the average number of orders per customer?"
      ]
    },
    {
      "cell_type": "code",
      "metadata": {
        "id": "2XlU7aXq6ond",
        "colab": {
          "base_uri": "https://localhost:8080/",
          "height": 234
        },
        "outputId": "2a4476ac-bd4e-47ef-fa01-f3501e4dbd96"
      },
      "source": [
        "#Find the unique number of InvoiceNo  per customer\n",
        "groupby_customers = pd.DataFrame(df.groupby('NewID')['InvoiceNo'].nunique())\n",
        "groupby_customers.head()"
      ],
      "execution_count": 943,
      "outputs": [
        {
          "output_type": "execute_result",
          "data": {
            "text/html": [
              "<div>\n",
              "<style scoped>\n",
              "    .dataframe tbody tr th:only-of-type {\n",
              "        vertical-align: middle;\n",
              "    }\n",
              "\n",
              "    .dataframe tbody tr th {\n",
              "        vertical-align: top;\n",
              "    }\n",
              "\n",
              "    .dataframe thead th {\n",
              "        text-align: right;\n",
              "    }\n",
              "</style>\n",
              "<table border=\"1\" class=\"dataframe\">\n",
              "  <thead>\n",
              "    <tr style=\"text-align: right;\">\n",
              "      <th></th>\n",
              "      <th>InvoiceNo</th>\n",
              "    </tr>\n",
              "    <tr>\n",
              "      <th>NewID</th>\n",
              "      <th></th>\n",
              "    </tr>\n",
              "  </thead>\n",
              "  <tbody>\n",
              "    <tr>\n",
              "      <th>123460</th>\n",
              "      <td>2</td>\n",
              "    </tr>\n",
              "    <tr>\n",
              "      <th>123470</th>\n",
              "      <td>7</td>\n",
              "    </tr>\n",
              "    <tr>\n",
              "      <th>123480</th>\n",
              "      <td>4</td>\n",
              "    </tr>\n",
              "    <tr>\n",
              "      <th>123490</th>\n",
              "      <td>1</td>\n",
              "    </tr>\n",
              "    <tr>\n",
              "      <th>123500</th>\n",
              "      <td>1</td>\n",
              "    </tr>\n",
              "  </tbody>\n",
              "</table>\n",
              "</div>"
            ],
            "text/plain": [
              "        InvoiceNo\n",
              "NewID            \n",
              "123460          2\n",
              "123470          7\n",
              "123480          4\n",
              "123490          1\n",
              "123500          1"
            ]
          },
          "metadata": {
            "tags": []
          },
          "execution_count": 943
        }
      ]
    },
    {
      "cell_type": "code",
      "metadata": {
        "id": "LMJGFkRM6ond",
        "colab": {
          "base_uri": "https://localhost:8080/",
          "height": 295
        },
        "outputId": "4b709a05-31d4-4ea7-af3c-5c1d92a50fb3"
      },
      "source": [
        "groupby_customers.describe()"
      ],
      "execution_count": 944,
      "outputs": [
        {
          "output_type": "execute_result",
          "data": {
            "text/html": [
              "<div>\n",
              "<style scoped>\n",
              "    .dataframe tbody tr th:only-of-type {\n",
              "        vertical-align: middle;\n",
              "    }\n",
              "\n",
              "    .dataframe tbody tr th {\n",
              "        vertical-align: top;\n",
              "    }\n",
              "\n",
              "    .dataframe thead th {\n",
              "        text-align: right;\n",
              "    }\n",
              "</style>\n",
              "<table border=\"1\" class=\"dataframe\">\n",
              "  <thead>\n",
              "    <tr style=\"text-align: right;\">\n",
              "      <th></th>\n",
              "      <th>InvoiceNo</th>\n",
              "    </tr>\n",
              "  </thead>\n",
              "  <tbody>\n",
              "    <tr>\n",
              "      <th>count</th>\n",
              "      <td>8082.00</td>\n",
              "    </tr>\n",
              "    <tr>\n",
              "      <th>mean</th>\n",
              "      <td>3.20</td>\n",
              "    </tr>\n",
              "    <tr>\n",
              "      <th>std</th>\n",
              "      <td>7.16</td>\n",
              "    </tr>\n",
              "    <tr>\n",
              "      <th>min</th>\n",
              "      <td>1.00</td>\n",
              "    </tr>\n",
              "    <tr>\n",
              "      <th>25%</th>\n",
              "      <td>1.00</td>\n",
              "    </tr>\n",
              "    <tr>\n",
              "      <th>50%</th>\n",
              "      <td>1.00</td>\n",
              "    </tr>\n",
              "    <tr>\n",
              "      <th>75%</th>\n",
              "      <td>3.00</td>\n",
              "    </tr>\n",
              "    <tr>\n",
              "      <th>max</th>\n",
              "      <td>248.00</td>\n",
              "    </tr>\n",
              "  </tbody>\n",
              "</table>\n",
              "</div>"
            ],
            "text/plain": [
              "       InvoiceNo\n",
              "count    8082.00\n",
              "mean        3.20\n",
              "std         7.16\n",
              "min         1.00\n",
              "25%         1.00\n",
              "50%         1.00\n",
              "75%         3.00\n",
              "max       248.00"
            ]
          },
          "metadata": {
            "tags": []
          },
          "execution_count": 944
        }
      ]
    },
    {
      "cell_type": "markdown",
      "metadata": {
        "id": "laO2CXRM6ond"
      },
      "source": [
        "The average number of orders per customer is 3.\n",
        "<br>\n",
        "<br>\n",
        "We found in descriptive statistics above that customers buy an average quantity of about 10 per product. Are there some products that are extremely popular? What's the distribution of the number of items the customers buy?"
      ]
    },
    {
      "cell_type": "markdown",
      "metadata": {
        "id": "Ecwd67wy6ond"
      },
      "source": [
        "#### b. What's the average number of unqiue items per order and per customer?"
      ]
    },
    {
      "cell_type": "code",
      "metadata": {
        "id": "n9V6dMZd6one",
        "colab": {
          "base_uri": "https://localhost:8080/",
          "height": 234
        },
        "outputId": "a6ce50fa-aeb1-4f6b-eae9-5b5c152a9ec3"
      },
      "source": [
        "groupby_invoice = pd.DataFrame(df.groupby('InvoiceNo')['StockCode'].nunique())\n",
        "groupby_invoice.columns = ['Number of Items per Order']\n",
        "groupby_invoice.head()"
      ],
      "execution_count": 945,
      "outputs": [
        {
          "output_type": "execute_result",
          "data": {
            "text/html": [
              "<div>\n",
              "<style scoped>\n",
              "    .dataframe tbody tr th:only-of-type {\n",
              "        vertical-align: middle;\n",
              "    }\n",
              "\n",
              "    .dataframe tbody tr th {\n",
              "        vertical-align: top;\n",
              "    }\n",
              "\n",
              "    .dataframe thead th {\n",
              "        text-align: right;\n",
              "    }\n",
              "</style>\n",
              "<table border=\"1\" class=\"dataframe\">\n",
              "  <thead>\n",
              "    <tr style=\"text-align: right;\">\n",
              "      <th></th>\n",
              "      <th>Number of Items per Order</th>\n",
              "    </tr>\n",
              "    <tr>\n",
              "      <th>InvoiceNo</th>\n",
              "      <th></th>\n",
              "    </tr>\n",
              "  </thead>\n",
              "  <tbody>\n",
              "    <tr>\n",
              "      <th>536365</th>\n",
              "      <td>7</td>\n",
              "    </tr>\n",
              "    <tr>\n",
              "      <th>536366</th>\n",
              "      <td>2</td>\n",
              "    </tr>\n",
              "    <tr>\n",
              "      <th>536367</th>\n",
              "      <td>12</td>\n",
              "    </tr>\n",
              "    <tr>\n",
              "      <th>536368</th>\n",
              "      <td>4</td>\n",
              "    </tr>\n",
              "    <tr>\n",
              "      <th>536369</th>\n",
              "      <td>1</td>\n",
              "    </tr>\n",
              "  </tbody>\n",
              "</table>\n",
              "</div>"
            ],
            "text/plain": [
              "           Number of Items per Order\n",
              "InvoiceNo                           \n",
              "536365                             7\n",
              "536366                             2\n",
              "536367                            12\n",
              "536368                             4\n",
              "536369                             1"
            ]
          },
          "metadata": {
            "tags": []
          },
          "execution_count": 945
        }
      ]
    },
    {
      "cell_type": "code",
      "metadata": {
        "id": "sP8GZttG6one",
        "colab": {
          "base_uri": "https://localhost:8080/",
          "height": 295
        },
        "outputId": "d3753cb6-3fc2-4aa4-9e7f-b328edcc3e33"
      },
      "source": [
        "groupby_invoice.describe()"
      ],
      "execution_count": 946,
      "outputs": [
        {
          "output_type": "execute_result",
          "data": {
            "text/html": [
              "<div>\n",
              "<style scoped>\n",
              "    .dataframe tbody tr th:only-of-type {\n",
              "        vertical-align: middle;\n",
              "    }\n",
              "\n",
              "    .dataframe tbody tr th {\n",
              "        vertical-align: top;\n",
              "    }\n",
              "\n",
              "    .dataframe thead th {\n",
              "        text-align: right;\n",
              "    }\n",
              "</style>\n",
              "<table border=\"1\" class=\"dataframe\">\n",
              "  <thead>\n",
              "    <tr style=\"text-align: right;\">\n",
              "      <th></th>\n",
              "      <th>Number of Items per Order</th>\n",
              "    </tr>\n",
              "  </thead>\n",
              "  <tbody>\n",
              "    <tr>\n",
              "      <th>count</th>\n",
              "      <td>25900.00</td>\n",
              "    </tr>\n",
              "    <tr>\n",
              "      <th>mean</th>\n",
              "      <td>20.51</td>\n",
              "    </tr>\n",
              "    <tr>\n",
              "      <th>std</th>\n",
              "      <td>42.50</td>\n",
              "    </tr>\n",
              "    <tr>\n",
              "      <th>min</th>\n",
              "      <td>1.00</td>\n",
              "    </tr>\n",
              "    <tr>\n",
              "      <th>25%</th>\n",
              "      <td>2.00</td>\n",
              "    </tr>\n",
              "    <tr>\n",
              "      <th>50%</th>\n",
              "      <td>10.00</td>\n",
              "    </tr>\n",
              "    <tr>\n",
              "      <th>75%</th>\n",
              "      <td>23.00</td>\n",
              "    </tr>\n",
              "    <tr>\n",
              "      <th>max</th>\n",
              "      <td>1110.00</td>\n",
              "    </tr>\n",
              "  </tbody>\n",
              "</table>\n",
              "</div>"
            ],
            "text/plain": [
              "       Number of Items per Order\n",
              "count                   25900.00\n",
              "mean                       20.51\n",
              "std                        42.50\n",
              "min                         1.00\n",
              "25%                         2.00\n",
              "50%                        10.00\n",
              "75%                        23.00\n",
              "max                      1110.00"
            ]
          },
          "metadata": {
            "tags": []
          },
          "execution_count": 946
        }
      ]
    },
    {
      "cell_type": "markdown",
      "metadata": {
        "id": "nIVcFthU6one"
      },
      "source": [
        "Let's see how this compares to the number of unique products per customer."
      ]
    },
    {
      "cell_type": "code",
      "metadata": {
        "id": "cWFXHFod6onf",
        "colab": {
          "base_uri": "https://localhost:8080/",
          "height": 234
        },
        "outputId": "103d4148-6eb5-4098-a1bc-a8ec1c932b28"
      },
      "source": [
        "groupby_ID = pd.DataFrame(df.groupby('NewID')['StockCode'].nunique())\n",
        "groupby_ID.columns = ['Number of Items per Customer']\n",
        "groupby_ID.head()"
      ],
      "execution_count": 947,
      "outputs": [
        {
          "output_type": "execute_result",
          "data": {
            "text/html": [
              "<div>\n",
              "<style scoped>\n",
              "    .dataframe tbody tr th:only-of-type {\n",
              "        vertical-align: middle;\n",
              "    }\n",
              "\n",
              "    .dataframe tbody tr th {\n",
              "        vertical-align: top;\n",
              "    }\n",
              "\n",
              "    .dataframe thead th {\n",
              "        text-align: right;\n",
              "    }\n",
              "</style>\n",
              "<table border=\"1\" class=\"dataframe\">\n",
              "  <thead>\n",
              "    <tr style=\"text-align: right;\">\n",
              "      <th></th>\n",
              "      <th>Number of Items per Customer</th>\n",
              "    </tr>\n",
              "    <tr>\n",
              "      <th>NewID</th>\n",
              "      <th></th>\n",
              "    </tr>\n",
              "  </thead>\n",
              "  <tbody>\n",
              "    <tr>\n",
              "      <th>123460</th>\n",
              "      <td>1</td>\n",
              "    </tr>\n",
              "    <tr>\n",
              "      <th>123470</th>\n",
              "      <td>103</td>\n",
              "    </tr>\n",
              "    <tr>\n",
              "      <th>123480</th>\n",
              "      <td>22</td>\n",
              "    </tr>\n",
              "    <tr>\n",
              "      <th>123490</th>\n",
              "      <td>73</td>\n",
              "    </tr>\n",
              "    <tr>\n",
              "      <th>123500</th>\n",
              "      <td>17</td>\n",
              "    </tr>\n",
              "  </tbody>\n",
              "</table>\n",
              "</div>"
            ],
            "text/plain": [
              "        Number of Items per Customer\n",
              "NewID                               \n",
              "123460                             1\n",
              "123470                           103\n",
              "123480                            22\n",
              "123490                            73\n",
              "123500                            17"
            ]
          },
          "metadata": {
            "tags": []
          },
          "execution_count": 947
        }
      ]
    },
    {
      "cell_type": "code",
      "metadata": {
        "id": "UtT7l3aN6onf",
        "colab": {
          "base_uri": "https://localhost:8080/",
          "height": 295
        },
        "outputId": "6dd0e486-c3da-4390-f2ac-753481e981c7"
      },
      "source": [
        "groupby_ID.describe()"
      ],
      "execution_count": 948,
      "outputs": [
        {
          "output_type": "execute_result",
          "data": {
            "text/html": [
              "<div>\n",
              "<style scoped>\n",
              "    .dataframe tbody tr th:only-of-type {\n",
              "        vertical-align: middle;\n",
              "    }\n",
              "\n",
              "    .dataframe tbody tr th {\n",
              "        vertical-align: top;\n",
              "    }\n",
              "\n",
              "    .dataframe thead th {\n",
              "        text-align: right;\n",
              "    }\n",
              "</style>\n",
              "<table border=\"1\" class=\"dataframe\">\n",
              "  <thead>\n",
              "    <tr style=\"text-align: right;\">\n",
              "      <th></th>\n",
              "      <th>Number of Items per Customer</th>\n",
              "    </tr>\n",
              "  </thead>\n",
              "  <tbody>\n",
              "    <tr>\n",
              "      <th>count</th>\n",
              "      <td>8082.00</td>\n",
              "    </tr>\n",
              "    <tr>\n",
              "      <th>mean</th>\n",
              "      <td>49.76</td>\n",
              "    </tr>\n",
              "    <tr>\n",
              "      <th>std</th>\n",
              "      <td>91.22</td>\n",
              "    </tr>\n",
              "    <tr>\n",
              "      <th>min</th>\n",
              "      <td>1.00</td>\n",
              "    </tr>\n",
              "    <tr>\n",
              "      <th>25%</th>\n",
              "      <td>1.00</td>\n",
              "    </tr>\n",
              "    <tr>\n",
              "      <th>50%</th>\n",
              "      <td>17.00</td>\n",
              "    </tr>\n",
              "    <tr>\n",
              "      <th>75%</th>\n",
              "      <td>58.00</td>\n",
              "    </tr>\n",
              "    <tr>\n",
              "      <th>max</th>\n",
              "      <td>1794.00</td>\n",
              "    </tr>\n",
              "  </tbody>\n",
              "</table>\n",
              "</div>"
            ],
            "text/plain": [
              "       Number of Items per Customer\n",
              "count                       8082.00\n",
              "mean                          49.76\n",
              "std                           91.22\n",
              "min                            1.00\n",
              "25%                            1.00\n",
              "50%                           17.00\n",
              "75%                           58.00\n",
              "max                         1794.00"
            ]
          },
          "metadata": {
            "tags": []
          },
          "execution_count": 948
        }
      ]
    },
    {
      "cell_type": "code",
      "metadata": {
        "id": "WstnnNqi6onf",
        "colab": {
          "base_uri": "https://localhost:8080/",
          "height": 621
        },
        "outputId": "31dc5b04-1477-4481-ead8-a3853bfc9648"
      },
      "source": [
        "#Visualize the distribution of both\n",
        "sns.set_style(\"darkgrid\")\n",
        "fig, ax = plt.subplots(1,2)\n",
        "fig.set_size_inches(20, 10)\n",
        "plt1 = sns.distplot(groupby_invoice['Number of Items per Order'], ax=ax[0], bins=100)\n",
        "plt1.set_xlim(0,200)\n",
        "plt1.set_xlabel(xlabel='Number of Items per Order',fontsize=25)\n",
        "plt2 = sns.distplot(groupby_ID['Number of Items per Customer'], ax=ax[1], bins=100)\n",
        "plt2.set_xlim(0,350)\n",
        "plt2.set_xlabel(xlabel='Number of Items per Customer',fontsize=25)\n",
        "plt.show()"
      ],
      "execution_count": 949,
      "outputs": [
        {
          "output_type": "display_data",
          "data": {
            "image/png": "[encoded data removed]",
            "text/plain": [
              "<Figure size 1440x720 with 2 Axes>"
            ]
          },
          "metadata": {
            "tags": []
          }
        }
      ]
    },
    {
      "cell_type": "markdown",
      "metadata": {
        "id": "Sk98Hv8v6ong"
      },
      "source": [
        "We have skewed left distributions for both plots. The average number of items per order is 20.5 and the average number of items per customer is 50."
      ]
    },
    {
      "cell_type": "markdown",
      "metadata": {
        "id": "Z3ZoYKUN6ong"
      },
      "source": [
        "## Customers by Country"
      ]
    },
    {
      "cell_type": "code",
      "metadata": {
        "collapsed": true,
        "id": "RlhokBRO6ong"
      },
      "source": [
        "df['Total_Cost'] = df['Quantity'] * df['UnitPrice']"
      ],
      "execution_count": 950,
      "outputs": []
    },
    {
      "cell_type": "code",
      "metadata": {
        "scrolled": true,
        "id": "TE7a8-zy6ong",
        "colab": {
          "base_uri": "https://localhost:8080/",
          "height": 203
        },
        "outputId": "63a0b16b-b158-4aeb-ccde-cf7764c92f97"
      },
      "source": [
        "df.head()"
      ],
      "execution_count": 951,
      "outputs": [
        {
          "output_type": "execute_result",
          "data": {
            "text/html": [
              "<div>\n",
              "<style scoped>\n",
              "    .dataframe tbody tr th:only-of-type {\n",
              "        vertical-align: middle;\n",
              "    }\n",
              "\n",
              "    .dataframe tbody tr th {\n",
              "        vertical-align: top;\n",
              "    }\n",
              "\n",
              "    .dataframe thead th {\n",
              "        text-align: right;\n",
              "    }\n",
              "</style>\n",
              "<table border=\"1\" class=\"dataframe\">\n",
              "  <thead>\n",
              "    <tr style=\"text-align: right;\">\n",
              "      <th></th>\n",
              "      <th>InvoiceNo</th>\n",
              "      <th>StockCode</th>\n",
              "      <th>Description</th>\n",
              "      <th>Quantity</th>\n",
              "      <th>InvoiceDate</th>\n",
              "      <th>UnitPrice</th>\n",
              "      <th>CustomerID</th>\n",
              "      <th>Country</th>\n",
              "      <th>CustomerID_is_null</th>\n",
              "      <th>NewID</th>\n",
              "      <th>Total_Cost</th>\n",
              "    </tr>\n",
              "  </thead>\n",
              "  <tbody>\n",
              "    <tr>\n",
              "      <th>0</th>\n",
              "      <td>536365</td>\n",
              "      <td>85123A</td>\n",
              "      <td>WHITE HANGING HEART T-LIGHT HOLDER</td>\n",
              "      <td>6</td>\n",
              "      <td>2010-12-01 08:26:00</td>\n",
              "      <td>2.55</td>\n",
              "      <td>17850.0</td>\n",
              "      <td>United Kingdom</td>\n",
              "      <td>0</td>\n",
              "      <td>178500</td>\n",
              "      <td>15.30</td>\n",
              "    </tr>\n",
              "    <tr>\n",
              "      <th>1</th>\n",
              "      <td>536365</td>\n",
              "      <td>71053</td>\n",
              "      <td>WHITE METAL LANTERN</td>\n",
              "      <td>6</td>\n",
              "      <td>2010-12-01 08:26:00</td>\n",
              "      <td>3.39</td>\n",
              "      <td>17850.0</td>\n",
              "      <td>United Kingdom</td>\n",
              "      <td>0</td>\n",
              "      <td>178500</td>\n",
              "      <td>20.34</td>\n",
              "    </tr>\n",
              "    <tr>\n",
              "      <th>2</th>\n",
              "      <td>536365</td>\n",
              "      <td>84406B</td>\n",
              "      <td>CREAM CUPID HEARTS COAT HANGER</td>\n",
              "      <td>8</td>\n",
              "      <td>2010-12-01 08:26:00</td>\n",
              "      <td>2.75</td>\n",
              "      <td>17850.0</td>\n",
              "      <td>United Kingdom</td>\n",
              "      <td>0</td>\n",
              "      <td>178500</td>\n",
              "      <td>22.00</td>\n",
              "    </tr>\n",
              "    <tr>\n",
              "      <th>3</th>\n",
              "      <td>536365</td>\n",
              "      <td>84029G</td>\n",
              "      <td>KNITTED UNION FLAG HOT WATER BOTTLE</td>\n",
              "      <td>6</td>\n",
              "      <td>2010-12-01 08:26:00</td>\n",
              "      <td>3.39</td>\n",
              "      <td>17850.0</td>\n",
              "      <td>United Kingdom</td>\n",
              "      <td>0</td>\n",
              "      <td>178500</td>\n",
              "      <td>20.34</td>\n",
              "    </tr>\n",
              "    <tr>\n",
              "      <th>4</th>\n",
              "      <td>536365</td>\n",
              "      <td>84029E</td>\n",
              "      <td>RED WOOLLY HOTTIE WHITE HEART.</td>\n",
              "      <td>6</td>\n",
              "      <td>2010-12-01 08:26:00</td>\n",
              "      <td>3.39</td>\n",
              "      <td>17850.0</td>\n",
              "      <td>United Kingdom</td>\n",
              "      <td>0</td>\n",
              "      <td>178500</td>\n",
              "      <td>20.34</td>\n",
              "    </tr>\n",
              "  </tbody>\n",
              "</table>\n",
              "</div>"
            ],
            "text/plain": [
              "  InvoiceNo StockCode  ...   NewID  Total_Cost\n",
              "0    536365    85123A  ...  178500       15.30\n",
              "1    536365     71053  ...  178500       20.34\n",
              "2    536365    84406B  ...  178500       22.00\n",
              "3    536365    84029G  ...  178500       20.34\n",
              "4    536365    84029E  ...  178500       20.34\n",
              "\n",
              "[5 rows x 11 columns]"
            ]
          },
          "metadata": {
            "tags": []
          },
          "execution_count": 951
        }
      ]
    },
    {
      "cell_type": "markdown",
      "metadata": {
        "id": "hCkYIILl6onh"
      },
      "source": [
        "** What's the total revenue per country? **"
      ]
    },
    {
      "cell_type": "markdown",
      "metadata": {
        "id": "qjsEIjhE6onh"
      },
      "source": [
        "Let's look at the number of customers by country to get an idea of which countries have the most orders."
      ]
    },
    {
      "cell_type": "code",
      "metadata": {
        "scrolled": false,
        "id": "iV3Mnsgp6oni",
        "colab": {
          "base_uri": "https://localhost:8080/",
          "height": 643
        },
        "outputId": "09ea4998-7a64-49c4-bb01-b36c12663744"
      },
      "source": [
        "country_df = pd.DataFrame(df.groupby('Country')['NewID'].nunique())\n",
        "country_df.columns = ['Number of Customers by Country']\n",
        "country_df.sort_values('Number of Customers by Country', inplace=True, ascending=False)\n",
        "fig, ax = plt.subplots(figsize=(12,6),dpi=100)\n",
        "ax=sns.barplot(x=country_df.index, y=country_df['Number of Customers by Country'])\n",
        "ax.set_xticklabels(ax.get_xticklabels(), rotation=50, ha=\"right\")\n",
        "plt.show()"
      ],
      "execution_count": 952,
      "outputs": [
        {
          "output_type": "display_data",
          "data": {
            "image/png": "[encoded data removed]",
            "text/plain": [
              "<Figure size 1200x600 with 1 Axes>"
            ]
          },
          "metadata": {
            "tags": []
          }
        }
      ]
    },
    {
      "cell_type": "markdown",
      "metadata": {
        "id": "qW0X05SA6oni"
      },
      "source": [
        "The United Kingdom has significantly more customers than the other countries in our data set, so their total cost should look similar."
      ]
    },
    {
      "cell_type": "code",
      "metadata": {
        "id": "aIJrD6786onj",
        "colab": {
          "base_uri": "https://localhost:8080/",
          "height": 643
        },
        "outputId": "551c5760-c33f-4f20-e9f9-a103c52a7f57"
      },
      "source": [
        "fig1, ax1 = plt.subplots(figsize=(12,6),dpi=100)\n",
        "ax1=sns.barplot(x='Country', y='Total_Cost', data=df, estimator=max, ax=ax1)\n",
        "ax1.set_xticklabels(ax1.get_xticklabels(), rotation=50, ha=\"right\")\n",
        "plt.show()"
      ],
      "execution_count": 953,
      "outputs": [
        {
          "output_type": "display_data",
          "data": {
            "image/png": "[encoded data removed]",
            "text/plain": [
              "<Figure size 1200x600 with 1 Axes>"
            ]
          },
          "metadata": {
            "tags": []
          }
        }
      ]
    },
    {
      "cell_type": "markdown",
      "metadata": {
        "collapsed": true,
        "id": "IPBFLUdf6onj"
      },
      "source": [
        "The UK not only has the most sales revenue, but also the most customers. Since the majority of this data set contains orders from the UK, we can explore the UK market further by finding out what products the customers buy together and any other buying behaviors to improve our sales and targeting strategy."
      ]
    },
    {
      "cell_type": "markdown",
      "metadata": {
        "id": "r4rD8KsN6onk"
      },
      "source": [
        "## Exploring the UK Market"
      ]
    },
    {
      "cell_type": "code",
      "metadata": {
        "scrolled": true,
        "id": "W6oyW5_y6onk",
        "colab": {
          "base_uri": "https://localhost:8080/",
          "height": 295
        },
        "outputId": "28ae604b-37e2-4505-ab67-74e77c19c7a3"
      },
      "source": [
        "df_uk = df[df['Country']=='United Kingdom']\n",
        "df_uk.describe()"
      ],
      "execution_count": 954,
      "outputs": [
        {
          "output_type": "execute_result",
          "data": {
            "text/html": [
              "<div>\n",
              "<style scoped>\n",
              "    .dataframe tbody tr th:only-of-type {\n",
              "        vertical-align: middle;\n",
              "    }\n",
              "\n",
              "    .dataframe tbody tr th {\n",
              "        vertical-align: top;\n",
              "    }\n",
              "\n",
              "    .dataframe thead th {\n",
              "        text-align: right;\n",
              "    }\n",
              "</style>\n",
              "<table border=\"1\" class=\"dataframe\">\n",
              "  <thead>\n",
              "    <tr style=\"text-align: right;\">\n",
              "      <th></th>\n",
              "      <th>Quantity</th>\n",
              "      <th>UnitPrice</th>\n",
              "      <th>CustomerID</th>\n",
              "      <th>CustomerID_is_null</th>\n",
              "      <th>NewID</th>\n",
              "      <th>Total_Cost</th>\n",
              "    </tr>\n",
              "  </thead>\n",
              "  <tbody>\n",
              "    <tr>\n",
              "      <th>count</th>\n",
              "      <td>495478.00</td>\n",
              "      <td>495478.00</td>\n",
              "      <td>361878.00</td>\n",
              "      <td>495478.00</td>\n",
              "      <td>495478.00</td>\n",
              "      <td>495478.00</td>\n",
              "    </tr>\n",
              "    <tr>\n",
              "      <th>mean</th>\n",
              "      <td>8.61</td>\n",
              "      <td>4.53</td>\n",
              "      <td>15547.87</td>\n",
              "      <td>0.27</td>\n",
              "      <td>264016.67</td>\n",
              "      <td>16.53</td>\n",
              "    </tr>\n",
              "    <tr>\n",
              "      <th>std</th>\n",
              "      <td>227.59</td>\n",
              "      <td>99.32</td>\n",
              "      <td>1594.40</td>\n",
              "      <td>0.44</td>\n",
              "      <td>179302.72</td>\n",
              "      <td>394.84</td>\n",
              "    </tr>\n",
              "    <tr>\n",
              "      <th>min</th>\n",
              "      <td>-80995.00</td>\n",
              "      <td>-11062.06</td>\n",
              "      <td>12346.00</td>\n",
              "      <td>0.00</td>\n",
              "      <td>123460.00</td>\n",
              "      <td>-168469.60</td>\n",
              "    </tr>\n",
              "    <tr>\n",
              "      <th>25%</th>\n",
              "      <td>1.00</td>\n",
              "      <td>1.25</td>\n",
              "      <td>14194.00</td>\n",
              "      <td>0.00</td>\n",
              "      <td>146390.00</td>\n",
              "      <td>3.29</td>\n",
              "    </tr>\n",
              "    <tr>\n",
              "      <th>50%</th>\n",
              "      <td>3.00</td>\n",
              "      <td>2.10</td>\n",
              "      <td>15514.00</td>\n",
              "      <td>0.00</td>\n",
              "      <td>166390.00</td>\n",
              "      <td>8.29</td>\n",
              "    </tr>\n",
              "    <tr>\n",
              "      <th>75%</th>\n",
              "      <td>10.00</td>\n",
              "      <td>4.13</td>\n",
              "      <td>16931.00</td>\n",
              "      <td>1.00</td>\n",
              "      <td>538566.00</td>\n",
              "      <td>16.63</td>\n",
              "    </tr>\n",
              "    <tr>\n",
              "      <th>max</th>\n",
              "      <td>80995.00</td>\n",
              "      <td>38970.00</td>\n",
              "      <td>18287.00</td>\n",
              "      <td>1.00</td>\n",
              "      <td>581498.00</td>\n",
              "      <td>168469.60</td>\n",
              "    </tr>\n",
              "  </tbody>\n",
              "</table>\n",
              "</div>"
            ],
            "text/plain": [
              "        Quantity  UnitPrice  ...      NewID  Total_Cost\n",
              "count  495478.00  495478.00  ...  495478.00   495478.00\n",
              "mean        8.61       4.53  ...  264016.67       16.53\n",
              "std       227.59      99.32  ...  179302.72      394.84\n",
              "min    -80995.00  -11062.06  ...  123460.00  -168469.60\n",
              "25%         1.00       1.25  ...  146390.00        3.29\n",
              "50%         3.00       2.10  ...  166390.00        8.29\n",
              "75%        10.00       4.13  ...  538566.00       16.63\n",
              "max     80995.00   38970.00  ...  581498.00   168469.60\n",
              "\n",
              "[8 rows x 6 columns]"
            ]
          },
          "metadata": {
            "tags": []
          },
          "execution_count": 954
        }
      ]
    },
    {
      "cell_type": "code",
      "metadata": {
        "id": "Ih1pnCDS6onk",
        "colab": {
          "base_uri": "https://localhost:8080/"
        },
        "outputId": "e2446e72-c936-463b-d648-70e80c88b6d1"
      },
      "source": [
        "print(\"Percentage of customers from the UK: \", round(df_uk['NewID'].nunique() * 100 / df['NewID'].nunique(),2),\"%\" )\n",
        "print(\"Number of transactions: \", df_uk['InvoiceNo'].nunique())\n",
        "print(\"Number of products Bought: \", df_uk['StockCode'].nunique())\n",
        "print(\"Number of customers:\", df_uk['NewID'].nunique())"
      ],
      "execution_count": 955,
      "outputs": [
        {
          "output_type": "stream",
          "text": [
            "Percentage of customers from the UK:  93.88 %\n",
            "Number of transactions:  23494\n",
            "Number of products Bought:  4065\n",
            "Number of customers: 7587\n"
          ],
          "name": "stdout"
        }
      ]
    },
    {
      "cell_type": "markdown",
      "metadata": {
        "id": "uSzI_7Ax6onm"
      },
      "source": [
        "**What are the most popular products that are bought in the UK?**"
      ]
    },
    {
      "cell_type": "code",
      "metadata": {
        "id": "xziFpjyK6onm",
        "colab": {
          "base_uri": "https://localhost:8080/",
          "height": 357
        },
        "outputId": "fdaf8ace-f685-46e4-e68f-d3d7fede15ac"
      },
      "source": [
        "uk_product = df_uk.groupby(['StockCode','Description'],as_index= False)['Quantity'].sum().sort_values(by='Quantity', ascending=False)\n",
        "uk_product.head(10)"
      ],
      "execution_count": 956,
      "outputs": [
        {
          "output_type": "execute_result",
          "data": {
            "text/html": [
              "<div>\n",
              "<style scoped>\n",
              "    .dataframe tbody tr th:only-of-type {\n",
              "        vertical-align: middle;\n",
              "    }\n",
              "\n",
              "    .dataframe tbody tr th {\n",
              "        vertical-align: top;\n",
              "    }\n",
              "\n",
              "    .dataframe thead th {\n",
              "        text-align: right;\n",
              "    }\n",
              "</style>\n",
              "<table border=\"1\" class=\"dataframe\">\n",
              "  <thead>\n",
              "    <tr style=\"text-align: right;\">\n",
              "      <th></th>\n",
              "      <th>StockCode</th>\n",
              "      <th>Description</th>\n",
              "      <th>Quantity</th>\n",
              "    </tr>\n",
              "  </thead>\n",
              "  <tbody>\n",
              "    <tr>\n",
              "      <th>3154</th>\n",
              "      <td>84077</td>\n",
              "      <td>WORLD WAR 2 GLIDERS ASSTD DESIGNS</td>\n",
              "      <td>48326</td>\n",
              "    </tr>\n",
              "    <tr>\n",
              "      <th>4340</th>\n",
              "      <td>85099B</td>\n",
              "      <td>JUMBO BAG RED RETROSPOT</td>\n",
              "      <td>43167</td>\n",
              "    </tr>\n",
              "    <tr>\n",
              "      <th>1237</th>\n",
              "      <td>22197</td>\n",
              "      <td>POPCORN HOLDER</td>\n",
              "      <td>34365</td>\n",
              "    </tr>\n",
              "    <tr>\n",
              "      <th>3274</th>\n",
              "      <td>84879</td>\n",
              "      <td>ASSORTED COLOUR BIRD ORNAMENT</td>\n",
              "      <td>33679</td>\n",
              "    </tr>\n",
              "    <tr>\n",
              "      <th>4353</th>\n",
              "      <td>85123A</td>\n",
              "      <td>WHITE HANGING HEART T-LIGHT HOLDER</td>\n",
              "      <td>32901</td>\n",
              "    </tr>\n",
              "    <tr>\n",
              "      <th>1677</th>\n",
              "      <td>22616</td>\n",
              "      <td>PACK OF 12 LONDON TISSUES</td>\n",
              "      <td>25307</td>\n",
              "    </tr>\n",
              "    <tr>\n",
              "      <th>437</th>\n",
              "      <td>21212</td>\n",
              "      <td>PACK OF 72 RETROSPOT CAKE CASES</td>\n",
              "      <td>24702</td>\n",
              "    </tr>\n",
              "    <tr>\n",
              "      <th>1216</th>\n",
              "      <td>22178</td>\n",
              "      <td>VICTORIAN GLASS HANGING T-LIGHT</td>\n",
              "      <td>23242</td>\n",
              "    </tr>\n",
              "    <tr>\n",
              "      <th>41</th>\n",
              "      <td>17003</td>\n",
              "      <td>BROCADE RING PURSE</td>\n",
              "      <td>22801</td>\n",
              "    </tr>\n",
              "    <tr>\n",
              "      <th>11</th>\n",
              "      <td>15036</td>\n",
              "      <td>ASSORTED COLOURS SILK FAN</td>\n",
              "      <td>20322</td>\n",
              "    </tr>\n",
              "  </tbody>\n",
              "</table>\n",
              "</div>"
            ],
            "text/plain": [
              "     StockCode                         Description  Quantity\n",
              "3154     84077   WORLD WAR 2 GLIDERS ASSTD DESIGNS     48326\n",
              "4340    85099B             JUMBO BAG RED RETROSPOT     43167\n",
              "1237     22197                      POPCORN HOLDER     34365\n",
              "3274     84879       ASSORTED COLOUR BIRD ORNAMENT     33679\n",
              "4353    85123A  WHITE HANGING HEART T-LIGHT HOLDER     32901\n",
              "1677     22616          PACK OF 12 LONDON TISSUES      25307\n",
              "437      21212     PACK OF 72 RETROSPOT CAKE CASES     24702\n",
              "1216     22178     VICTORIAN GLASS HANGING T-LIGHT     23242\n",
              "41       17003                 BROCADE RING PURSE      22801\n",
              "11       15036           ASSORTED COLOURS SILK FAN     20322"
            ]
          },
          "metadata": {
            "tags": []
          },
          "execution_count": 956
        }
      ]
    },
    {
      "cell_type": "markdown",
      "metadata": {
        "id": "YE5n7eIg6onn"
      },
      "source": [
        "We will continue analyzing the UK transactions with customer segmentation."
      ]
    },
    {
      "cell_type": "markdown",
      "metadata": {
        "id": "NPlnBZ6g4-Ud"
      },
      "source": [
        "**Data Cleaning**"
      ]
    },
    {
      "cell_type": "code",
      "metadata": {
        "colab": {
          "base_uri": "https://localhost:8080/",
          "height": 234
        },
        "id": "GkQBSoqR233x",
        "outputId": "a67fdc21-0f7f-4d0c-9df1-9662d06daf14"
      },
      "source": [
        "df.select_dtypes(include= ['int64', 'float64']).describe().transpose()\n"
      ],
      "execution_count": 957,
      "outputs": [
        {
          "output_type": "execute_result",
          "data": {
            "text/html": [
              "<div>\n",
              "<style scoped>\n",
              "    .dataframe tbody tr th:only-of-type {\n",
              "        vertical-align: middle;\n",
              "    }\n",
              "\n",
              "    .dataframe tbody tr th {\n",
              "        vertical-align: top;\n",
              "    }\n",
              "\n",
              "    .dataframe thead th {\n",
              "        text-align: right;\n",
              "    }\n",
              "</style>\n",
              "<table border=\"1\" class=\"dataframe\">\n",
              "  <thead>\n",
              "    <tr style=\"text-align: right;\">\n",
              "      <th></th>\n",
              "      <th>count</th>\n",
              "      <th>mean</th>\n",
              "      <th>std</th>\n",
              "      <th>min</th>\n",
              "      <th>25%</th>\n",
              "      <th>50%</th>\n",
              "      <th>75%</th>\n",
              "      <th>max</th>\n",
              "    </tr>\n",
              "  </thead>\n",
              "  <tbody>\n",
              "    <tr>\n",
              "      <th>Quantity</th>\n",
              "      <td>541909.0</td>\n",
              "      <td>9.55</td>\n",
              "      <td>218.08</td>\n",
              "      <td>-80995.00</td>\n",
              "      <td>1.00</td>\n",
              "      <td>3.00</td>\n",
              "      <td>10.00</td>\n",
              "      <td>80995.0</td>\n",
              "    </tr>\n",
              "    <tr>\n",
              "      <th>UnitPrice</th>\n",
              "      <td>541909.0</td>\n",
              "      <td>4.61</td>\n",
              "      <td>96.76</td>\n",
              "      <td>-11062.06</td>\n",
              "      <td>1.25</td>\n",
              "      <td>2.08</td>\n",
              "      <td>4.13</td>\n",
              "      <td>38970.0</td>\n",
              "    </tr>\n",
              "    <tr>\n",
              "      <th>CustomerID</th>\n",
              "      <td>406829.0</td>\n",
              "      <td>15287.69</td>\n",
              "      <td>1713.60</td>\n",
              "      <td>12346.00</td>\n",
              "      <td>13953.00</td>\n",
              "      <td>15152.00</td>\n",
              "      <td>16791.00</td>\n",
              "      <td>18287.0</td>\n",
              "    </tr>\n",
              "    <tr>\n",
              "      <th>CustomerID_is_null</th>\n",
              "      <td>541909.0</td>\n",
              "      <td>0.25</td>\n",
              "      <td>0.43</td>\n",
              "      <td>0.00</td>\n",
              "      <td>0.00</td>\n",
              "      <td>0.00</td>\n",
              "      <td>0.00</td>\n",
              "      <td>1.0</td>\n",
              "    </tr>\n",
              "    <tr>\n",
              "      <th>NewID</th>\n",
              "      <td>541909.0</td>\n",
              "      <td>253869.47</td>\n",
              "      <td>176036.80</td>\n",
              "      <td>123460.00</td>\n",
              "      <td>143670.00</td>\n",
              "      <td>162490.00</td>\n",
              "      <td>182830.00</td>\n",
              "      <td>581498.0</td>\n",
              "    </tr>\n",
              "    <tr>\n",
              "      <th>Total_Cost</th>\n",
              "      <td>541909.0</td>\n",
              "      <td>17.99</td>\n",
              "      <td>378.81</td>\n",
              "      <td>-168469.60</td>\n",
              "      <td>3.40</td>\n",
              "      <td>9.75</td>\n",
              "      <td>17.40</td>\n",
              "      <td>168469.6</td>\n",
              "    </tr>\n",
              "  </tbody>\n",
              "</table>\n",
              "</div>"
            ],
            "text/plain": [
              "                       count       mean  ...        75%       max\n",
              "Quantity            541909.0       9.55  ...      10.00   80995.0\n",
              "UnitPrice           541909.0       4.61  ...       4.13   38970.0\n",
              "CustomerID          406829.0   15287.69  ...   16791.00   18287.0\n",
              "CustomerID_is_null  541909.0       0.25  ...       0.00       1.0\n",
              "NewID               541909.0  253869.47  ...  182830.00  581498.0\n",
              "Total_Cost          541909.0      17.99  ...      17.40  168469.6\n",
              "\n",
              "[6 rows x 8 columns]"
            ]
          },
          "metadata": {
            "tags": []
          },
          "execution_count": 957
        }
      ]
    },
    {
      "cell_type": "code",
      "metadata": {
        "id": "L3h0CmCprkPL"
      },
      "source": [
        "# No more need of newly created explored column\n",
        "df = df.drop(columns=['CustomerID_is_null','NewID'], axis=1)"
      ],
      "execution_count": 958,
      "outputs": []
    },
    {
      "cell_type": "code",
      "metadata": {
        "id": "eDMYb9foxUGZ"
      },
      "source": [
        "# drop rows with NaN\n",
        "df.dropna(axis=0, subset=['CustomerID'], inplace= True)"
      ],
      "execution_count": 959,
      "outputs": []
    },
    {
      "cell_type": "code",
      "metadata": {
        "id": "4mKOcBVnAJXA"
      },
      "source": [
        "df[['StockCode']] = df['StockCode'].astype(str)\n",
        "df[['CustomerID']] = df['CustomerID'].astype(int).astype(str)"
      ],
      "execution_count": 960,
      "outputs": []
    },
    {
      "cell_type": "markdown",
      "metadata": {
        "id": "Z7MDyWh6DrLo"
      },
      "source": [
        "- Assert that StockCode and Customer ID are of string data type not integers or floats.\n"
      ]
    },
    {
      "cell_type": "markdown",
      "metadata": {
        "id": "-5-NOFOxYgfa"
      },
      "source": [
        "Drop duplicated records."
      ]
    },
    {
      "cell_type": "code",
      "metadata": {
        "id": "j7VGHo_SuxF_"
      },
      "source": [
        "# Drop duplicated records.\n",
        "indx = df[df.duplicated(keep='first')].index\n",
        "df.drop(index = indx, inplace= True)"
      ],
      "execution_count": 961,
      "outputs": []
    },
    {
      "cell_type": "code",
      "metadata": {
        "colab": {
          "base_uri": "https://localhost:8080/"
        },
        "id": "uzG69V85xFbx",
        "outputId": "7bfd8bce-4d5b-408a-d929-a3c70384f040"
      },
      "source": [
        "df.dtypes.value_counts()\n"
      ],
      "execution_count": 962,
      "outputs": [
        {
          "output_type": "execute_result",
          "data": {
            "text/plain": [
              "object            5\n",
              "float64           2\n",
              "datetime64[ns]    1\n",
              "int64             1\n",
              "dtype: int64"
            ]
          },
          "metadata": {
            "tags": []
          },
          "execution_count": 962
        }
      ]
    },
    {
      "cell_type": "markdown",
      "metadata": {
        "id": "ug31ojaPY1mU"
      },
      "source": [
        "- Number of different data types in the dataset."
      ]
    },
    {
      "cell_type": "markdown",
      "metadata": {
        "id": "W_jjWwgZ7Wqp"
      },
      "source": [
        "Transactions with a letter 'C' at the beginning of its invoice numbers are canceled transactions, so we drop them.\n"
      ]
    },
    {
      "cell_type": "code",
      "metadata": {
        "id": "_8NjqzIoyVhd"
      },
      "source": [
        "# Drop cancelled transactions\n",
        "indx = df.InvoiceNo[df.InvoiceNo.str.contains('C') == True].index\n",
        "df.drop(index= indx, inplace= True)"
      ],
      "execution_count": 963,
      "outputs": []
    },
    {
      "cell_type": "markdown",
      "metadata": {
        "id": "6Hq-xyRe7OHX"
      },
      "source": [
        "Some transaction have a sale price of zero, these could be free gifts for some customers and not true sales transaction. So, we will drop them."
      ]
    },
    {
      "cell_type": "code",
      "metadata": {
        "id": "Rj3NVuAN7Ljw"
      },
      "source": [
        "# Drop transactions with price zero\n",
        "indx = df.loc[df.UnitPrice == 0].index\n",
        "df.drop(index= indx, inplace= True)"
      ],
      "execution_count": 964,
      "outputs": []
    },
    {
      "cell_type": "code",
      "metadata": {
        "colab": {
          "base_uri": "https://localhost:8080/"
        },
        "id": "ImUMlOfzD0jQ",
        "outputId": "19924e66-e44c-4e34-9dea-46dd68544574"
      },
      "source": [
        "df.info()"
      ],
      "execution_count": 965,
      "outputs": [
        {
          "output_type": "stream",
          "text": [
            "<class 'pandas.core.frame.DataFrame'>\n",
            "Int64Index: 392692 entries, 0 to 541908\n",
            "Data columns (total 9 columns):\n",
            " #   Column       Non-Null Count   Dtype         \n",
            "---  ------       --------------   -----         \n",
            " 0   InvoiceNo    392692 non-null  object        \n",
            " 1   StockCode    392692 non-null  object        \n",
            " 2   Description  392692 non-null  object        \n",
            " 3   Quantity     392692 non-null  int64         \n",
            " 4   InvoiceDate  392692 non-null  datetime64[ns]\n",
            " 5   UnitPrice    392692 non-null  float64       \n",
            " 6   CustomerID   392692 non-null  object        \n",
            " 7   Country      392692 non-null  object        \n",
            " 8   Total_Cost   392692 non-null  float64       \n",
            "dtypes: datetime64[ns](1), float64(2), int64(1), object(5)\n",
            "memory usage: 30.0+ MB\n"
          ],
          "name": "stdout"
        }
      ]
    },
    {
      "cell_type": "markdown",
      "metadata": {
        "id": "Sux8suf9EtQg"
      },
      "source": [
        "#Feature Engineering"
      ]
    },
    {
      "cell_type": "markdown",
      "metadata": {
        "id": "QVF4_SyLE1Ny"
      },
      "source": [
        "Building features for RFM model"
      ]
    },
    {
      "cell_type": "code",
      "metadata": {
        "id": "NX3NYPeF-saj"
      },
      "source": [
        "# FEATURE ENGINEERING \n",
        "# ADDING A COLUMN TO THE DATASET\n",
        "\n",
        "# sales = unitprice*quantity"
      ],
      "execution_count": 966,
      "outputs": []
    },
    {
      "cell_type": "code",
      "metadata": {
        "id": "RPAOtihVE879"
      },
      "source": [
        "# Amount per transaction which is the product of sale price and quantity\n",
        "# df['Amount'] = df['Price'] * df['Quantity']\n",
        "df['Total_Cost'] = df['Quantity'] * df['UnitPrice']"
      ],
      "execution_count": 967,
      "outputs": []
    },
    {
      "cell_type": "markdown",
      "metadata": {
        "id": "GPIRqEkdFo8z"
      },
      "source": [
        "Separate transaction time (in hours) from transaction date.\n",
        "\n",
        "Link - https://stackoverflow.com/questions/45304531/extracting-the-first-day-of-month-of-a-datetime-type-column-in-pandas"
      ]
    },
    {
      "cell_type": "code",
      "metadata": {
        "id": "lWVo7Vb6Flp_"
      },
      "source": [
        "df['InvoiceDate']=pd.to_datetime(df['InvoiceDate'])"
      ],
      "execution_count": 968,
      "outputs": []
    },
    {
      "cell_type": "code",
      "metadata": {
        "id": "2e39a88CF4S6"
      },
      "source": [
        "# Create new variable for Invoice time in hours\n",
        "df['Transaction_time'] = df['InvoiceDate'].dt.hour\n",
        "\n",
        "# Create new variable for Invoice date\n",
        "df['Transaction_date'] = df['InvoiceDate'].dt.date\n",
        "df['Transaction_date'] = df.Transaction_date.apply(lambda x: x.replace(day = 1))"
      ],
      "execution_count": 969,
      "outputs": []
    },
    {
      "cell_type": "code",
      "metadata": {
        "colab": {
          "base_uri": "https://localhost:8080/",
          "height": 203
        },
        "id": "WQlbkBlfGT6Y",
        "outputId": "7383f601-1bc5-479d-9e76-fb01376d22d3"
      },
      "source": [
        "df.head()"
      ],
      "execution_count": 970,
      "outputs": [
        {
          "output_type": "execute_result",
          "data": {
            "text/html": [
              "<div>\n",
              "<style scoped>\n",
              "    .dataframe tbody tr th:only-of-type {\n",
              "        vertical-align: middle;\n",
              "    }\n",
              "\n",
              "    .dataframe tbody tr th {\n",
              "        vertical-align: top;\n",
              "    }\n",
              "\n",
              "    .dataframe thead th {\n",
              "        text-align: right;\n",
              "    }\n",
              "</style>\n",
              "<table border=\"1\" class=\"dataframe\">\n",
              "  <thead>\n",
              "    <tr style=\"text-align: right;\">\n",
              "      <th></th>\n",
              "      <th>InvoiceNo</th>\n",
              "      <th>StockCode</th>\n",
              "      <th>Description</th>\n",
              "      <th>Quantity</th>\n",
              "      <th>InvoiceDate</th>\n",
              "      <th>UnitPrice</th>\n",
              "      <th>CustomerID</th>\n",
              "      <th>Country</th>\n",
              "      <th>Total_Cost</th>\n",
              "      <th>Transaction_time</th>\n",
              "      <th>Transaction_date</th>\n",
              "    </tr>\n",
              "  </thead>\n",
              "  <tbody>\n",
              "    <tr>\n",
              "      <th>0</th>\n",
              "      <td>536365</td>\n",
              "      <td>85123A</td>\n",
              "      <td>WHITE HANGING HEART T-LIGHT HOLDER</td>\n",
              "      <td>6</td>\n",
              "      <td>2010-12-01 08:26:00</td>\n",
              "      <td>2.55</td>\n",
              "      <td>17850</td>\n",
              "      <td>United Kingdom</td>\n",
              "      <td>15.30</td>\n",
              "      <td>8</td>\n",
              "      <td>2010-12-01</td>\n",
              "    </tr>\n",
              "    <tr>\n",
              "      <th>1</th>\n",
              "      <td>536365</td>\n",
              "      <td>71053</td>\n",
              "      <td>WHITE METAL LANTERN</td>\n",
              "      <td>6</td>\n",
              "      <td>2010-12-01 08:26:00</td>\n",
              "      <td>3.39</td>\n",
              "      <td>17850</td>\n",
              "      <td>United Kingdom</td>\n",
              "      <td>20.34</td>\n",
              "      <td>8</td>\n",
              "      <td>2010-12-01</td>\n",
              "    </tr>\n",
              "    <tr>\n",
              "      <th>2</th>\n",
              "      <td>536365</td>\n",
              "      <td>84406B</td>\n",
              "      <td>CREAM CUPID HEARTS COAT HANGER</td>\n",
              "      <td>8</td>\n",
              "      <td>2010-12-01 08:26:00</td>\n",
              "      <td>2.75</td>\n",
              "      <td>17850</td>\n",
              "      <td>United Kingdom</td>\n",
              "      <td>22.00</td>\n",
              "      <td>8</td>\n",
              "      <td>2010-12-01</td>\n",
              "    </tr>\n",
              "    <tr>\n",
              "      <th>3</th>\n",
              "      <td>536365</td>\n",
              "      <td>84029G</td>\n",
              "      <td>KNITTED UNION FLAG HOT WATER BOTTLE</td>\n",
              "      <td>6</td>\n",
              "      <td>2010-12-01 08:26:00</td>\n",
              "      <td>3.39</td>\n",
              "      <td>17850</td>\n",
              "      <td>United Kingdom</td>\n",
              "      <td>20.34</td>\n",
              "      <td>8</td>\n",
              "      <td>2010-12-01</td>\n",
              "    </tr>\n",
              "    <tr>\n",
              "      <th>4</th>\n",
              "      <td>536365</td>\n",
              "      <td>84029E</td>\n",
              "      <td>RED WOOLLY HOTTIE WHITE HEART.</td>\n",
              "      <td>6</td>\n",
              "      <td>2010-12-01 08:26:00</td>\n",
              "      <td>3.39</td>\n",
              "      <td>17850</td>\n",
              "      <td>United Kingdom</td>\n",
              "      <td>20.34</td>\n",
              "      <td>8</td>\n",
              "      <td>2010-12-01</td>\n",
              "    </tr>\n",
              "  </tbody>\n",
              "</table>\n",
              "</div>"
            ],
            "text/plain": [
              "  InvoiceNo StockCode  ... Transaction_time  Transaction_date\n",
              "0    536365    85123A  ...                8        2010-12-01\n",
              "1    536365     71053  ...                8        2010-12-01\n",
              "2    536365    84406B  ...                8        2010-12-01\n",
              "3    536365    84029G  ...                8        2010-12-01\n",
              "4    536365    84029E  ...                8        2010-12-01\n",
              "\n",
              "[5 rows x 11 columns]"
            ]
          },
          "metadata": {
            "tags": []
          },
          "execution_count": 970
        }
      ]
    },
    {
      "cell_type": "markdown",
      "metadata": {
        "id": "oNc1r_kdK1uN"
      },
      "source": [
        "For each transaction, calculate the number of months since transaction date to the end of the year (Dec 2010).\n"
      ]
    },
    {
      "cell_type": "code",
      "metadata": {
        "id": "FFTiAtzOLah8"
      },
      "source": [
        "from dateutil.relativedelta import relativedelta"
      ],
      "execution_count": 971,
      "outputs": []
    },
    {
      "cell_type": "code",
      "metadata": {
        "id": "bWap_UkDHXlg"
      },
      "source": [
        "# calculate the no. of months since transaction date .\n",
        "ref = datetime.strptime('2011-12', '%Y-%m')\n",
        "df['Mnths_since_purchase'] = df.Transaction_date.apply(lambda x: \\\n",
        "                                        relativedelta(ref,x).years*12 + relativedelta(ref,x).months)\n",
        "Recency = df.groupby('CustomerID').agg({'Mnths_since_purchase' : 'min'}).copy().rename(columns= {'Mnths_since_purchase':'Recency'})"
      ],
      "execution_count": 972,
      "outputs": []
    },
    {
      "cell_type": "markdown",
      "metadata": {
        "id": "FovA8Y3YLHM5"
      },
      "source": [
        "For each customer, calculate the number of months since his/her first purchase."
      ]
    },
    {
      "cell_type": "code",
      "metadata": {
        "id": "WaiaEhPvxemp"
      },
      "source": [
        "# Calculate the number of months since the first purchase for each customer\n",
        "df['First_purchase'] = df['Mnths_since_purchase'].copy()\n",
        "First_purchase = df.groupby('CustomerID').agg({'First_purchase' : 'max'}).copy().rename(columns= {'Mnths_since_purchase':'First_purchase'})"
      ],
      "execution_count": 973,
      "outputs": []
    },
    {
      "cell_type": "code",
      "metadata": {
        "id": "XRrG0yu1xuHx"
      },
      "source": [
        "Frequency = df.groupby(['CustomerID',\n",
        "                    'Transaction_date']).agg({'InvoiceNo' : 'nunique'}).groupby(['CustomerID']).agg({'InvoiceNo' : 'mean'}).copy().rename(columns= {'InvoiceNo':'Frequency'})"
      ],
      "execution_count": 974,
      "outputs": []
    },
    {
      "cell_type": "code",
      "metadata": {
        "id": "IGhFKIMQx3Ot"
      },
      "source": [
        "Monetary_value = df.groupby(['CustomerID',\n",
        "                    'InvoiceNo']).agg({'Total_Cost' : 'sum'}).groupby(['CustomerID']).agg({'Total_Cost' : 'mean'}).copy().rename(columns= {'InvoiceNo':'Frequency',\n",
        "                                                              'Total_Cost': 'Monetary_value'})"
      ],
      "execution_count": 975,
      "outputs": []
    },
    {
      "cell_type": "code",
      "metadata": {
        "id": "P_hQP_fyx9PG"
      },
      "source": [
        "# Calculate Average number of unique items in each transaction for each customer\n",
        "unique_items = df.groupby(['CustomerID', 'InvoiceNo']).agg({'StockCode': 'nunique'}).groupby(['CustomerID']\\\n",
        "            ).agg({'StockCode':'mean'}).rename(columns={'StockCode': 'Unique_items'})"
      ],
      "execution_count": 976,
      "outputs": []
    },
    {
      "cell_type": "markdown",
      "metadata": {
        "id": "Xo4lWmeoDrAY"
      },
      "source": [
        "Assemble all new features into a new data frame to be used for model training later.\n"
      ]
    },
    {
      "cell_type": "code",
      "metadata": {
        "colab": {
          "base_uri": "https://localhost:8080/",
          "height": 295
        },
        "id": "kjw60BgZb7ea",
        "outputId": "31fd74b8-c2c7-431d-a2c8-a6817637b7f9"
      },
      "source": [
        "# Create transformed data for Clustering\n",
        "data_transformed = pd.concat([Recency, First_purchase, Frequency, Monetary_value,unique_items], axis=1)\n",
        "data_transformed.describe()"
      ],
      "execution_count": 977,
      "outputs": [
        {
          "output_type": "execute_result",
          "data": {
            "text/html": [
              "<div>\n",
              "<style scoped>\n",
              "    .dataframe tbody tr th:only-of-type {\n",
              "        vertical-align: middle;\n",
              "    }\n",
              "\n",
              "    .dataframe tbody tr th {\n",
              "        vertical-align: top;\n",
              "    }\n",
              "\n",
              "    .dataframe thead th {\n",
              "        text-align: right;\n",
              "    }\n",
              "</style>\n",
              "<table border=\"1\" class=\"dataframe\">\n",
              "  <thead>\n",
              "    <tr style=\"text-align: right;\">\n",
              "      <th></th>\n",
              "      <th>Recency</th>\n",
              "      <th>First_purchase</th>\n",
              "      <th>Frequency</th>\n",
              "      <th>Monetary_value</th>\n",
              "      <th>Unique_items</th>\n",
              "    </tr>\n",
              "  </thead>\n",
              "  <tbody>\n",
              "    <tr>\n",
              "      <th>count</th>\n",
              "      <td>4338.00</td>\n",
              "      <td>4338.00</td>\n",
              "      <td>4338.00</td>\n",
              "      <td>4338.00</td>\n",
              "      <td>4338.00</td>\n",
              "    </tr>\n",
              "    <tr>\n",
              "      <th>mean</th>\n",
              "      <td>3.22</td>\n",
              "      <td>7.48</td>\n",
              "      <td>1.23</td>\n",
              "      <td>417.65</td>\n",
              "      <td>21.51</td>\n",
              "    </tr>\n",
              "    <tr>\n",
              "      <th>std</th>\n",
              "      <td>3.28</td>\n",
              "      <td>3.82</td>\n",
              "      <td>0.77</td>\n",
              "      <td>1796.51</td>\n",
              "      <td>19.08</td>\n",
              "    </tr>\n",
              "    <tr>\n",
              "      <th>min</th>\n",
              "      <td>0.00</td>\n",
              "      <td>0.00</td>\n",
              "      <td>1.00</td>\n",
              "      <td>3.45</td>\n",
              "      <td>1.00</td>\n",
              "    </tr>\n",
              "    <tr>\n",
              "      <th>25%</th>\n",
              "      <td>1.00</td>\n",
              "      <td>4.00</td>\n",
              "      <td>1.00</td>\n",
              "      <td>177.87</td>\n",
              "      <td>9.38</td>\n",
              "    </tr>\n",
              "    <tr>\n",
              "      <th>50%</th>\n",
              "      <td>2.00</td>\n",
              "      <td>8.00</td>\n",
              "      <td>1.00</td>\n",
              "      <td>291.94</td>\n",
              "      <td>16.84</td>\n",
              "    </tr>\n",
              "    <tr>\n",
              "      <th>75%</th>\n",
              "      <td>5.00</td>\n",
              "      <td>11.00</td>\n",
              "      <td>1.25</td>\n",
              "      <td>428.28</td>\n",
              "      <td>27.64</td>\n",
              "    </tr>\n",
              "    <tr>\n",
              "      <th>max</th>\n",
              "      <td>12.00</td>\n",
              "      <td>12.00</td>\n",
              "      <td>34.00</td>\n",
              "      <td>84236.25</td>\n",
              "      <td>298.82</td>\n",
              "    </tr>\n",
              "  </tbody>\n",
              "</table>\n",
              "</div>"
            ],
            "text/plain": [
              "       Recency  First_purchase  Frequency  Monetary_value  Unique_items\n",
              "count  4338.00         4338.00    4338.00         4338.00       4338.00\n",
              "mean      3.22            7.48       1.23          417.65         21.51\n",
              "std       3.28            3.82       0.77         1796.51         19.08\n",
              "min       0.00            0.00       1.00            3.45          1.00\n",
              "25%       1.00            4.00       1.00          177.87          9.38\n",
              "50%       2.00            8.00       1.00          291.94         16.84\n",
              "75%       5.00           11.00       1.25          428.28         27.64\n",
              "max      12.00           12.00      34.00        84236.25        298.82"
            ]
          },
          "metadata": {
            "tags": []
          },
          "execution_count": 977
        }
      ]
    },
    {
      "cell_type": "markdown",
      "metadata": {
        "id": "-LSv_yRBaHrM"
      },
      "source": [
        "- Plot the distribution for all variables to detect potential outliers and decide whether normalization is needed.\n"
      ]
    },
    {
      "cell_type": "code",
      "metadata": {
        "id": "5d2WaYTbb7iR",
        "colab": {
          "base_uri": "https://localhost:8080/",
          "height": 678
        },
        "outputId": "48b1b26c-c004-4da7-e7c6-7b32ada70218"
      },
      "source": [
        "# Plot the distribution of all variables that will be used for model training\n",
        "fig, ax = plt.subplots(ncols=2, nrows=3, figsize=(9,11))\n",
        "sns.distplot(data_transformed.Recency, ax= ax[0][0], kde= False)\n",
        "sns.distplot(data_transformed.First_purchase, ax= ax[0][1], kde= False)\n",
        "sns.distplot(data_transformed.Frequency, ax= ax[1][0], kde= False)\n",
        "sns.distplot(data_transformed.Monetary_value, ax= ax[1][1], kde= False)\n",
        "sns.distplot(data_transformed.Unique_items, ax= ax[2][0], kde= False)"
      ],
      "execution_count": 978,
      "outputs": [
        {
          "output_type": "execute_result",
          "data": {
            "text/plain": [
              "<matplotlib.axes._subplots.AxesSubplot at 0x7fc63777af90>"
            ]
          },
          "metadata": {
            "tags": []
          },
          "execution_count": 978
        },
        {
          "output_type": "display_data",
          "data": {
            "image/png": "[encoded data removed]",
            "text/plain": [
              "<Figure size 648x792 with 6 Axes>"
            ]
          },
          "metadata": {
            "tags": []
          }
        }
      ]
    },
    {
      "cell_type": "markdown",
      "metadata": {
        "id": "ZWCqqFsVEuex"
      },
      "source": [
        "The plots show some potential outliers in both frequency and Monetary value, so we will drop those customers from our dataset. Such that customers having more than Mean + 3 Std (i.e. Z-score > 3). will be dropped."
      ]
    },
    {
      "cell_type": "code",
      "metadata": {
        "id": "gCMjza7jFSg_"
      },
      "source": [
        "# Define frequency threshold value and drop customers who exceed the threshold\n",
        "freq_stats = data_transformed['Frequency'].describe()\n",
        "freq_threshold = freq_stats['mean'] + 3 * freq_stats['std'] #freq_threshold=3.7581864236322606\n",
        "indx = data_transformed.loc[data_transformed.Frequency > freq_threshold].index\n",
        "data_transformed.drop(index = indx, inplace= True)"
      ],
      "execution_count": 979,
      "outputs": []
    },
    {
      "cell_type": "code",
      "metadata": {
        "id": "6hKW8XTJFSbH"
      },
      "source": [
        "# Define Monetary value threshold value and drop customers who exceed the threshold\n",
        "m_stats = data_transformed['Monetary_value'].describe()\n",
        "m_threshold = m_stats['mean'] + 3 * m_stats['std']\n",
        "indx = data_transformed.loc[data_transformed.Monetary_value > m_threshold].index\n",
        "data_transformed.drop(index = indx, inplace= True)"
      ],
      "execution_count": 980,
      "outputs": []
    },
    {
      "cell_type": "code",
      "metadata": {
        "colab": {
          "base_uri": "https://localhost:8080/",
          "height": 678
        },
        "id": "7iWGKgqjF-VP",
        "outputId": "b57ab2e7-54ee-4b71-ddea-c68c14a67e5f"
      },
      "source": [
        "fig, ax = plt.subplots(ncols=2, nrows=3, figsize=(9,11))\n",
        "sns.distplot(data_transformed.Recency, ax= ax[0][0], kde= False)\n",
        "sns.distplot(data_transformed.First_purchase, ax= ax[0][1], kde= False)\n",
        "sns.distplot(data_transformed.Frequency, ax= ax[1][0], kde= False)\n",
        "sns.distplot(data_transformed.Monetary_value, ax= ax[1][1], kde= False)\n",
        "sns.distplot(data_transformed.Unique_items, ax= ax[2][0], kde= False)"
      ],
      "execution_count": 981,
      "outputs": [
        {
          "output_type": "execute_result",
          "data": {
            "text/plain": [
              "<matplotlib.axes._subplots.AxesSubplot at 0x7fc645dee350>"
            ]
          },
          "metadata": {
            "tags": []
          },
          "execution_count": 981
        },
        {
          "output_type": "display_data",
          "data": {
            "image/png": "[encoded data removed]",
            "text/plain": [
              "<Figure size 648x792 with 6 Axes>"
            ]
          },
          "metadata": {
            "tags": []
          }
        }
      ]
    },
    {
      "cell_type": "markdown",
      "metadata": {
        "id": "umo4QV6fUbGC"
      },
      "source": [
        "- Plots show that variables have very different scales and some of them are heavily skewed. So we will normalize all variables."
      ]
    },
    {
      "cell_type": "code",
      "metadata": {
        "id": "zSztkKS9VInB"
      },
      "source": [
        "import sklearn.preprocessing as pp"
      ],
      "execution_count": 982,
      "outputs": []
    },
    {
      "cell_type": "code",
      "metadata": {
        "id": "qnoRT_rHb7m_"
      },
      "source": [
        "# Normalize the four variables\n",
        "scaler = pp.StandardScaler()\n",
        "data_transformed_scaled = pd.DataFrame(scaler.fit_transform(data_transformed),columns= data_transformed.columns)"
      ],
      "execution_count": 983,
      "outputs": []
    },
    {
      "cell_type": "code",
      "metadata": {
        "id": "T2dudw2-Rwbo",
        "colab": {
          "base_uri": "https://localhost:8080/",
          "height": 678
        },
        "outputId": "7a9518ad-ae5f-420d-db30-54091c523194"
      },
      "source": [
        "fig, ax = plt.subplots(ncols=2, nrows=3, figsize=(9,11))\n",
        "sns.distplot(data_transformed_scaled.Recency, ax= ax[0][0], kde= False)\n",
        "sns.distplot(data_transformed_scaled.First_purchase, ax= ax[0][1], kde= False)\n",
        "sns.distplot(data_transformed_scaled.Frequency, ax= ax[1][0], kde= False)\n",
        "sns.distplot(data_transformed_scaled.Monetary_value, ax= ax[1][1], kde= False)\n",
        "sns.distplot(data_transformed_scaled.Unique_items, ax= ax[2][0], kde= False)"
      ],
      "execution_count": 984,
      "outputs": [
        {
          "output_type": "execute_result",
          "data": {
            "text/plain": [
              "<matplotlib.axes._subplots.AxesSubplot at 0x7fc63437d3d0>"
            ]
          },
          "metadata": {
            "tags": []
          },
          "execution_count": 984
        },
        {
          "output_type": "display_data",
          "data": {
            "image/png": "[encoded data removed]",
            "text/plain": [
              "<Figure size 648x792 with 6 Axes>"
            ]
          },
          "metadata": {
            "tags": []
          }
        }
      ]
    },
    {
      "cell_type": "code",
      "metadata": {
        "id": "Eb9LJq-GVIf6"
      },
      "source": [
        ""
      ],
      "execution_count": 984,
      "outputs": []
    }
  ]
}